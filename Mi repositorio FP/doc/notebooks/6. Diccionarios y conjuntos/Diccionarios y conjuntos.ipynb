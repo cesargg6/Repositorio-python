{
 "cells": [
  {
   "cell_type": "markdown",
   "metadata": {},
   "source": [
    "# Fundamentos de Programación\n",
    "# Diccionarios y conjuntos\n",
    "**Autor**: Fermín Cruz   **Revisor**: Carlos G. Vallejo, Mariano González, José A. Troyano, Fernando Enríquez.  **Última modificación:** 24 de octubre de 2023"
   ]
  },
  {
   "cell_type": "markdown",
   "metadata": {},
   "source": [
    "## Índice de contenidos\n",
    "* [1. Conjuntos](#sec_conjuntos)\n",
    "  * [1.1. Operaciones sobre conjuntos](#sec_operaciones_conjuntos)\n",
    "  * [1.2. Operaciones entre conjuntos](#sec_operaciones_entre_conjuntos)\n",
    "* [2. Diccionarios](#sec_diccionarios)\n",
    "  * [2.1. Inicialización de diccionarios](#sec_inicializacion)\n",
    "  * [2.2. Operaciones con diccionarios](#sec_operaciones)\n",
    "  * [2.3. Recorrido de diccionarios](#sec_recorrido)\n",
    "  * [2.4. Definición de diccionarios por comprensión](#sec_definicion)\n",
    "  * [2.5. El tipo _Counter_](#sec_counter)\n",
    "  * [2.6. El tipo _defaultdict_](#sec_defaultdict)"
   ]
  },
  {
   "cell_type": "markdown",
   "metadata": {},
   "source": [
    "# 1. Conjuntos <a id=\"sec_conjuntos\"/>"
   ]
  },
  {
   "cell_type": "markdown",
   "metadata": {},
   "source": [
    "Los conjuntos son un tipo de contenedor, igual que lo son las listas o las tuplas, pero con importantes diferencias. Sus principales características son:\n",
    "* Son **mutables**.\n",
    "* **No admiten duplicados**. Si insertamos un nuevo elemento que ya existía en el conjunto, simplemente no se añade.\n",
    "* **Los elementos no tienen una posición asociada**, como si tenían en las listas o en las tuplas. Por tanto, podemos recorrer los elementos de un conjunto, o preguntar si contiene a un elemento determinado, pero no acceder a una posición concreta.\n",
    "\n",
    "Además, una propiedad muy interesante de los conjuntos es que su operación de pertenencia (es decir, el operador `in` usado sobre conjuntos) es mucho más eficiente que el de las listas. Esta es la razón para usar conjuntos en lugar de listas en algunas ocasiones, cuando la principal utilidad que le vamos a dar al conjunto es preguntarle muchas veces a lo largo de la ejecución de algún algoritmo si contiene o no a determinados elementos."
   ]
  },
  {
   "cell_type": "markdown",
   "metadata": {},
   "source": [
    "## 1.1. Operaciones sobre conjuntos <a id=\"sec_operaciones_conjuntos\"/>"
   ]
  },
  {
   "cell_type": "markdown",
   "metadata": {},
   "source": [
    "Para inicializar un conjunto, podemos hacerlo usando las llaves, o la función `set()`:"
   ]
  },
  {
   "cell_type": "code",
   "execution_count": 1,
   "metadata": {},
   "outputs": [
    {
     "name": "stdout",
     "output_type": "stream",
     "text": [
      "1. Conjunto vacío: set()\n",
      "2. Conjunto explícito: {1, 2, 3}\n",
      "3. Conjunto a partir de secuencia: {1, 2, 3, 4, 5, -4, -1}\n"
     ]
    }
   ],
   "source": [
    "# 1. Inicializar un conjunto vacío\n",
    "# NO SE PUEDEN USAR LAS LLAVES, puesto que entonces Python entiende que estamos inicializando un diccionario.\n",
    "conjunto = set()\n",
    "print(\"1. Conjunto vacío:\", conjunto)\n",
    "\n",
    "# 2. Inicializar un conjunto explícitamente\n",
    "conjunto = {1, 2, 3}\n",
    "print(\"2. Conjunto explícito:\", conjunto)\n",
    "\n",
    "# 3. Inicializar un conjunto a partir de los elementos de una secuencia\n",
    "lista = [1, 5, 5, 2, 2, 4, 3, -4, -1]\n",
    "conjunto = set(lista)\n",
    "print(\"3. Conjunto a partir de secuencia:\", conjunto)"
   ]
  },
  {
   "cell_type": "markdown",
   "metadata": {},
   "source": [
    "Observa que en el ejemplo anterior al inicializar un conjunto a partir de una secuencia se eliminan los duplicados. Precisamente este es **uno de los usos más habituales de los conjuntos: obtener los valores distintos contenidos en una secuencia**. \n",
    "\n",
    "Los conjuntos también se puede definir por **comprensión**, como vimos para las listas. La única diferencia es que usaremos las llaves en lugar de los corchetes. Por ejemplo, podemos definir el conjunto de los elementos pares de la variable `lista` así:"
   ]
  },
  {
   "cell_type": "code",
   "execution_count": 2,
   "metadata": {},
   "outputs": [
    {
     "name": "stdout",
     "output_type": "stream",
     "text": [
      "{2, 4, -4}\n"
     ]
    }
   ],
   "source": [
    "conjunto_pares = {e for e in lista if e % 2 == 0}\n",
    "print(conjunto_pares)"
   ]
  },
  {
   "cell_type": "markdown",
   "metadata": {},
   "source": [
    "\n",
    "Los conjuntos **son iterables** mediante un `for`. A diferencia de las listas, no podemos saber en qué orden se recorrerán sus elementos:"
   ]
  },
  {
   "cell_type": "code",
   "execution_count": 3,
   "metadata": {},
   "outputs": [
    {
     "name": "stdout",
     "output_type": "stream",
     "text": [
      "1\n",
      "2\n",
      "3\n",
      "4\n",
      "5\n",
      "-4\n",
      "-1\n"
     ]
    }
   ],
   "source": [
    "for elemento in conjunto:\n",
    "    print(elemento)"
   ]
  },
  {
   "cell_type": "markdown",
   "metadata": {},
   "source": [
    "También podemos utilizar el **operador de pertenencia** `in` para preguntar por la pertenencia de un elemento al conjunto. Aunque esto es algo que podíamos hacer con las listas, en el caso de los conjuntos la operación es mucho más eficiente. Por tanto, si en un algoritmo se realizan una gran cantidad de operaciones de pertenencia, puede ser apropiado volcar los elementos en un conjunto en lugar de en una lista.\n",
    "\n",
    "Vamos a comprobarlo experimentalmente:"
   ]
  },
  {
   "cell_type": "code",
   "execution_count": 4,
   "metadata": {},
   "outputs": [
    {
     "name": "stdout",
     "output_type": "stream",
     "text": [
      "Tiempo de ejecución con lista: 57.3266077041626 segundos.\n",
      "Tiempo de ejecución con conjunto: 0.6118474006652832 segundos.\n"
     ]
    }
   ],
   "source": [
    "# Importamos este módulo para hacer mediciones del tiempo de ejecución\n",
    "import time\n",
    "import random\n",
    "\n",
    "# Creamos una lista con los números del 0 al 9999\n",
    "lista_numeros = list(range(10000)) \n",
    "\n",
    "# Guardamos una marca de tiempo del momento\n",
    "# en que comienza la ejecución del siguiente\n",
    "# bucle\n",
    "inicio = time.time()\n",
    "\n",
    "# Repetimos un millón de veces\n",
    "# la operación de pertenencia\n",
    "# sobre una lista\n",
    "for i in range(1000000):\n",
    "    numero = random.randint(0,20000)  # Generamos un número aleatorio\n",
    "    if numero in lista_numeros:  # Ejecutamos operación de pertenencia sobre la lista\n",
    "        pass  # No hacemos nada, sólo queremos medir cuánto tarda la operación in\n",
    "\n",
    "# Obtenemos otra marca de tiempo del momento\n",
    "# en que finaliza el bucle\n",
    "fin = time.time()\n",
    "\n",
    "# Restando ambas marcas de tiempo, sabemos el tiempo\n",
    "# que ha tardado en ejecutarse el bucle anterior\n",
    "print(\"Tiempo de ejecución con lista:\", fin - inicio, \"segundos.\")\n",
    "\n",
    "# Ahora repetimos el mismo procedimiento, pero usaremos\n",
    "# un conjunto en lugar de una lista\n",
    "conjunto_numeros = set(lista_numeros)\n",
    "inicio = time.time()\n",
    "for i in range(1000000):\n",
    "    numero = random.randint(0,1000) # Generamos un número aleatorio\n",
    "    if numero in conjunto_numeros:  # Ejecutamos operación de pertenencia sobre el conjunto\n",
    "        pass\n",
    "fin = time.time()\n",
    "print(\"Tiempo de ejecución con conjunto:\", fin - inicio, \"segundos.\")"
   ]
  },
  {
   "cell_type": "markdown",
   "metadata": {},
   "source": [
    "## 1.2. Operaciones entre conjuntos <a id=\"sec_operaciones_entre_conjuntos\"/>"
   ]
  },
  {
   "cell_type": "markdown",
   "metadata": {},
   "source": [
    "Todas las operaciones matemáticas entre conjuntos están implementadas en Python mediante operadores. En concreto, podemos hacer:\n",
    "* **[Unión de conjuntos](http://www.google.es/search?q=union+de+conjuntos)**, mediante el operador `|`.\n",
    "* **[Intersección de conjuntos](http://www.google.es/search?q=interseccion+de+conjuntos)**, mediante el operador `&`.\n",
    "* **[Diferencia de conjuntos](http://www.google.es/search?q=diferencia+de+conjuntos)**, mediante el operador `-`.\n",
    "* **[Diferencia simétrica de conjuntos](http://www.google.es/search?q=diferencia+simetrica+de+conjuntos)**, mediante el operador `^`. \n",
    "\n",
    "Puedes experimentar cómo funcionan estas operaciones en el siguiente ejemplo, modificando los elementos de los conjuntos iniciales:"
   ]
  },
  {
   "cell_type": "code",
   "execution_count": 5,
   "metadata": {},
   "outputs": [
    {
     "name": "stdout",
     "output_type": "stream",
     "text": [
      "Unión: {1, 2, 3, 4, 5, 6, 7, 8}\n",
      "Intersección: {4, 5}\n",
      "Diferencia: {1, 2, 3}\n",
      "Diferencia simétrica: {1, 2, 3, 6, 7, 8}\n"
     ]
    }
   ],
   "source": [
    "a = {1, 2, 3, 4, 5}\n",
    "b = {4, 5, 6, 7, 8}\n",
    "\n",
    "print(\"Unión:\", a | b)\n",
    "print(\"Intersección:\", a & b)\n",
    "print(\"Diferencia:\", a - b)\n",
    "print(\"Diferencia simétrica:\", a ^ b)"
   ]
  },
  {
   "cell_type": "markdown",
   "metadata": {},
   "source": [
    "Aunque también podemos utilizar métodos para realizar las mismas operaciones. Observa el siguiente código:"
   ]
  },
  {
   "cell_type": "code",
   "execution_count": 6,
   "metadata": {},
   "outputs": [
    {
     "name": "stdout",
     "output_type": "stream",
     "text": [
      "Unión: {1, 2, 3, 4, 5, 6, 7, 8}\n",
      "Intersección: {4, 5}\n",
      "Diferencia: {1, 2, 3}\n",
      "Diferencia simétrica: {1, 2, 3, 6, 7, 8}\n"
     ]
    }
   ],
   "source": [
    "a = {1, 2, 3, 4, 5}\n",
    "b = {4, 5, 6, 7, 8}\n",
    "\n",
    "print(\"Unión:\", a.union(b))\n",
    "print(\"Intersección:\", a.intersection(b))\n",
    "print(\"Diferencia:\", a.difference(b))\n",
    "print(\"Diferencia simétrica:\", a.symmetric_difference(b))"
   ]
  },
  {
   "cell_type": "markdown",
   "metadata": {},
   "source": [
    "También es posible interpelar a Python acerca de si un conjunto es un subconjunto de otro, con el operador `<=` (o con el operador `<`, para preguntar si es un subconjunto propio). Igualmente podemos usar los operadores `>` y `>=` para averigüar si un conjunto es un superconjunto o un superconjunto propio de otro:"
   ]
  },
  {
   "cell_type": "code",
   "execution_count": 7,
   "metadata": {},
   "outputs": [
    {
     "name": "stdout",
     "output_type": "stream",
     "text": [
      "¿Es a un subconjunto de b? False\n",
      "¿Es b un subconjunto de a? True\n",
      "¿Es a un subconjunto de sí mismo? True\n",
      "¿Es a un subconjunto propio de sí mismo? False\n"
     ]
    }
   ],
   "source": [
    "a = {1, 2, 3, 4, 5, 6,-7}\n",
    "b = {1, 2, 3}\n",
    "\n",
    "print(\"¿Es a un subconjunto de b?\", a <= b)\n",
    "print(\"¿Es b un subconjunto de a?\", b <= a)\n",
    "print(\"¿Es a un subconjunto de sí mismo?\", a <= a)\n",
    "print(\"¿Es a un subconjunto propio de sí mismo?\", a < b)"
   ]
  },
  {
   "cell_type": "markdown",
   "metadata": {},
   "source": [
    "### ¡Prueba tú!\n",
    "\n",
    "Los operadores `<`, `<=`, `>` y `>=` también se pueden usar entre listas. Haz pruebas y trata de explicar cómo funcionan estos operadores cuando trabajan con listas:"
   ]
  },
  {
   "cell_type": "code",
   "execution_count": 8,
   "metadata": {},
   "outputs": [
    {
     "name": "stdout",
     "output_type": "stream",
     "text": [
      "True\n",
      "False\n"
     ]
    }
   ],
   "source": [
    "lista1 = [1,2,3,4]\n",
    "lista2 = [1,2]\n",
    "lista3 = [3,4]\n",
    "lista4 = []\n",
    "\n",
    "print(lista2 < lista1)\n",
    "print(lista2 >= lista1)\n",
    "\n",
    "# Añade más pruebas:\n"
   ]
  },
  {
   "cell_type": "markdown",
   "metadata": {},
   "source": [
    "---\n",
    "\n",
    "Además de las operaciones propias de conjuntos, también pueden usarse algunas de las operaciones para secuencias que vimos en el notebook sobre secuencias (a pesar de que los conjuntos **no** son secuencias):"
   ]
  },
  {
   "cell_type": "code",
   "execution_count": 9,
   "metadata": {},
   "outputs": [
    {
     "name": "stdout",
     "output_type": "stream",
     "text": [
      "Tamaño del conjunto a: 7\n",
      "Suma de elementos de a: 14\n",
      "Mínimo de a: -7\n",
      "Máximo de a: 6\n",
      "Elementos de a, ordenados: [-7, 1, 2, 3, 4, 5, 6]\n"
     ]
    }
   ],
   "source": [
    "print(\"Tamaño del conjunto a:\", len(a))\n",
    "print(\"Suma de elementos de a:\", sum(a))\n",
    "print(\"Mínimo de a:\", min(a))\n",
    "print(\"Máximo de a:\", max(a))\n",
    "print(\"Elementos de a, ordenados:\", sorted(a)) # sorted devuelve siempre una lista, aunque le pasemos un conjunto"
   ]
  },
  {
   "cell_type": "markdown",
   "metadata": {},
   "source": [
    "## 2. Diccionarios <a id=\"sec_diccionarios\"/>"
   ]
  },
  {
   "cell_type": "markdown",
   "metadata": {},
   "source": [
    "Los **diccionarios** son un tipo contenedor, como lo son las listas o las tuplas. La principal característica que los diferencia de otros tipos contenedor es que los valores contenidos en un diccionario están *indexados* mediante claves. Esto significa que para acceder a un valor contenido en un diccionario, debemos conocer la clave correspondiente, de manera parecida a como para acceder a un elemento concreto de una lista o una tupla necesitamos conocer la posición que ocupa dicho elemento.\n",
    "\n",
    "A diferencia de las listas y las tuplas, en las que las posiciones que ocupan los elementos están implícitas en la propia definición de la lista, en los diccionarios debemos especificar explícitamente una clave para cada elemento.\n",
    "\n",
    "Veamos algunos ejemplos de inicialización y acceso a elementos de un diccionario, comparándolo con una tupla:"
   ]
  },
  {
   "cell_type": "code",
   "execution_count": 10,
   "metadata": {},
   "outputs": [
    {
     "name": "stdout",
     "output_type": "stream",
     "text": [
      "Miguel\n",
      "Miguel\n"
     ]
    }
   ],
   "source": [
    "datos_personales_tupla = (\"Miguel\", \"González Buendía\", 24, 1.75, 72.3)\n",
    "# Acceso al elemento indexado en la posición 0\n",
    "print(datos_personales_tupla[0])\n",
    "\n",
    "datos_personales_diccionario = {\"nombre\": \"Miguel\", \"apellidos\": \"González Buendía\", \"edad\": 24, \"altura\": 1.75, \"peso\": 72.3}\n",
    "# Acceso al elemento indexado con la clave \"nombre\"\n",
    "print(datos_personales_diccionario[\"nombre\"])"
   ]
  },
  {
   "cell_type": "markdown",
   "metadata": {},
   "source": [
    "Tal como se ve en el ejemplo, los diccionarios son una alternativa al uso de tuplas para representar información heterogénea sobre algún tipo de entidad. Pero son mucho más potentes que eso, porque tienen importantes diferencias:\n",
    "\n",
    "* Los diccionarios son **mutables**, lo que significa que podemos añadir o eliminar parejas clave-valor en cualquier momento.\n",
    "* Los valores pueden ser de cualquier tipo. Incluso pueden ser listas u otros diccionarios.\n",
    "* Sin embargo, **las claves deben ser obligatoriamente de algún tipo inmutable**. Lo más frecuente es que sean cadenas, números o fechas, o bien tuplas formadas por estos tipos. "
   ]
  },
  {
   "cell_type": "markdown",
   "metadata": {},
   "source": [
    "Es frecuente visualizar los diccionarios como una tabla de dos columnas, donde representamos las claves y los valores asociados a dichas claves:\n",
    "\n",
    "|clave | valor |\n",
    "|------|-------|\n",
    "| \"nombre\" | \"Miguel\" |\n",
    "| \"apellidos\" | \"González Buendía\" |\n",
    "| \"edad\" | 24 |\n",
    "| \"altura\" | 1.75 |\n",
    "| \"peso\" | 72.3 |"
   ]
  },
  {
   "cell_type": "markdown",
   "metadata": {},
   "source": [
    "## 2.1. Inicialización de diccionarios <a id=\"sec_inicializacion\"/>"
   ]
  },
  {
   "cell_type": "markdown",
   "metadata": {},
   "source": [
    "Existen múltiples opciones para inicializar un diccionario. A continuación se muestran distintos ejemplos:"
   ]
  },
  {
   "cell_type": "code",
   "execution_count": 11,
   "metadata": {},
   "outputs": [
    {
     "name": "stdout",
     "output_type": "stream",
     "text": [
      "1: {}\n",
      "2: {}\n",
      "3: {'clave1': 'valor1', 'clave2': 'valor2', 'clave3': 'valor3'}\n",
      "4: {'clave1': 'valor1', 'clave2': 'valor2', 'clave3': 'valor3'}\n",
      "5: {'clave1': 'valor1', 'clave2': 'valor2', 'clave3': 'valor3'}\n",
      "6: {'clave1': 'valor1', 'clave2': 'valor2', 'clave3': 'valor3'}\n"
     ]
    }
   ],
   "source": [
    "# 1. Diccionario vacío, mediante función dict\n",
    "diccionario = dict()  \n",
    "print(\"1:\", diccionario)\n",
    "\n",
    "# 2. Diccionario vacío, mediante llaves\n",
    "diccionario = {}      # Diccionario vacío\n",
    "print(\"2:\", diccionario)\n",
    "\n",
    "# 3. Mediante una secuencia de tuplas, de dos elementos cada tupla (cada tupla representa una pareja clave-valor)\n",
    "diccionario = dict([(\"clave1\", \"valor1\"), (\"clave2\", \"valor2\"), (\"clave3\", \"valor3\")])\n",
    "print(\"3:\", diccionario)\n",
    "\n",
    "# 4. También podemos pasar cada pareja clave-valor como un parámetro por nombre a la función dict.\n",
    "# En este caso, las claves siempre serán cadenas\n",
    "diccionario = dict(clave1 = \"valor1\", clave2 = \"valor2\", clave3 = \"valor3\")\n",
    "print(\"4:\", diccionario)\n",
    "\n",
    "# 5. Si tenemos las claves y las tuplas en dos secuencias, podemos usar zip\n",
    "claves = [\"clave1\", \"clave2\", \"clave3\"]\n",
    "valores = [\"valor1\", \"valor2\", \"valor3\"]\n",
    "diccionario = dict(zip(claves, valores))\n",
    "print(\"5:\", diccionario)\n",
    "\n",
    "# 6. Mediante las llaves, podemos especificar una serie de parejas clave-valor\n",
    "# Esta es quizás la opción más frecuente cuando se quiere inicializar un diccionario con unos valores conocidos.\n",
    "diccionario = {\"clave1\": \"valor1\", \"clave2\": \"valor2\", \"clave3\": \"valor3\"}\n",
    "print(\"6:\", diccionario)\n"
   ]
  },
  {
   "cell_type": "markdown",
   "metadata": {},
   "source": [
    "Aunque al mostrar los diccionarios las claves y valores asociados aparecen en el mismo orden en que fueron escritos al inicializar el diccionario, dichas parejas clave-valor (también llamadas **items**) no tienen un orden determinado dentro del diccionario. Por tanto, **dos diccionarios serán iguales si tienen las mismas parejas**, independientemente del orden en que fueran insertadas en el diccionario:"
   ]
  },
  {
   "cell_type": "code",
   "execution_count": 12,
   "metadata": {},
   "outputs": [
    {
     "name": "stdout",
     "output_type": "stream",
     "text": [
      "¿Son iguales diccionario y diccionario2? True\n"
     ]
    }
   ],
   "source": [
    "diccionario2 = {\"clave2\": \"valor2\", \"clave3\": \"valor3\", \"clave1\": \"valor1\"}\n",
    "print(\"¿Son iguales diccionario y diccionario2?\", diccionario==diccionario2)"
   ]
  },
  {
   "cell_type": "markdown",
   "metadata": {},
   "source": [
    "En los ejemplos anteriores tanto las claves como los valores son de tipo cadena. Por supuesto, podemos usar otros tipos, tanto para las claves como para los valores (recordando que los tipos de las claves deben ser inmutables, como señalamos antes). Es frecuente que los valores sean a su vez de algún tipo contenedor. Por ejemplo:\n",
    "```python\n",
    "# Glosario de un libro, indicando las páginas en las que aparecen distintos conceptos\n",
    "# Las claves son de tipo cadena y los valores de tipo lista\n",
    "glosario = {'programación estructurada': [14,15,18,24,85,86], 'funciones': [2,3,4,8,9,10,11,14,15,18], ...}\n",
    "```"
   ]
  },
  {
   "cell_type": "markdown",
   "metadata": {},
   "source": [
    "## 2.2. Operaciones con diccionarios <a id=\"sec_operaciones\"/>"
   ]
  },
  {
   "cell_type": "markdown",
   "metadata": {},
   "source": [
    "Repasaremos en esta sección las operaciones más comunes con diccionarios.\n",
    "\n",
    "Para **acceder a un valor a partir de una clave**, podemos utilizar los corchetes (de forma parecida a como accedemos a los elementos de una lista) o el método get:"
   ]
  },
  {
   "cell_type": "code",
   "execution_count": 13,
   "metadata": {},
   "outputs": [
    {
     "name": "stdout",
     "output_type": "stream",
     "text": [
      "1. El valor asociado a clave1 es valor1\n",
      "1. El valor asociado a clave1 es valor1\n",
      "3. El valor asociado a clave4 es None\n",
      "4. El valor asociado a clave4 es noexiste\n"
     ]
    }
   ],
   "source": [
    "diccionario = {\"clave1\": \"valor1\", \"clave2\": \"valor2\", \"clave3\": \"valor3\"}\n",
    "\n",
    "# 1. Acceso a un valor a partir de una clave mediante corchetes o mediante método get\n",
    "print(\"1. El valor asociado a clave1 es\", diccionario[\"clave1\"])\n",
    "print(\"1. El valor asociado a clave1 es\", diccionario.get(\"clave1\"))\n",
    "\n",
    "\n",
    "# 2. Si utilizo en los corchetes una clave que no existe en el diccionario, se produce un error\n",
    "# Descomenta la instrucción de abajo si quieres comprobarlo\n",
    "# print(\"2. El valor asociado a clave4 es\", diccionario[\"clave4\"])\n",
    "\n",
    "# 3. Sin embargo, si utilizo el método get con una clave no existente, obtengo un valor por defecto (None):\n",
    "print(\"3. El valor asociado a clave4 es\", diccionario.get(\"clave4\"))\n",
    "\n",
    "# 4. Podemos cambiar el valor por defecto que devuelve get cuando no encuentra una clave, mediante un segundo parámetro:\n",
    "print(\"4. El valor asociado a clave4 es\", diccionario.get(\"clave4\",\"noexiste\"))"
   ]
  },
  {
   "cell_type": "markdown",
   "metadata": {},
   "source": [
    "---\n",
    "Para **añadir una nueva pareja clave-valor** o **modificar el valor para una clave ya existente** podemos usar una instrucción de asignación, junto con el operador de acceso anterior (los corchetes):"
   ]
  },
  {
   "cell_type": "code",
   "execution_count": 14,
   "metadata": {},
   "outputs": [
    {
     "name": "stdout",
     "output_type": "stream",
     "text": [
      "{'clave1': 'valor1_modificado', 'clave2': 'valor2', 'clave3': 'valor3', 'clave4': 'valor4'}\n"
     ]
    }
   ],
   "source": [
    "# Inserción de una nueva pareja\n",
    "diccionario[\"clave4\"] = \"valor4\"\n",
    "\n",
    "# Modificación del valor para una clave existente\n",
    "diccionario[\"clave1\"] = \"valor1_modificado\"\n",
    "\n",
    "print(diccionario)"
   ]
  },
  {
   "cell_type": "markdown",
   "metadata": {},
   "source": [
    "---\n",
    "Si queremos **volcar toda la información contenida en un diccionario en otro diccionario**, usaremos el método *update*. Debemos tener en cuenta que al hacer esto puede que estemos sobrescribiendo los valores asociados a algunas claves del diccionario que estamos actualizando; esto ocurrirá cuando en el diccionario que estamos volcando haya claves iguales a las claves del diccionario que estamos actualizando:"
   ]
  },
  {
   "cell_type": "code",
   "execution_count": 15,
   "metadata": {},
   "outputs": [
    {
     "name": "stdout",
     "output_type": "stream",
     "text": [
      "{'clave1': 'valor1_modificado', 'clave2': 'valor2', 'clave3': 'valor3', 'clave4': 'valor4_modificado', 'clave5': 'valor5', 'clave6': 'valor6'}\n"
     ]
    }
   ],
   "source": [
    "diccionario2 = {\"clave4\": \"valor4_modificado\", \"clave5\": \"valor5\", \"clave6\": \"valor6\"}\n",
    "\n",
    "diccionario.update(diccionario2)\n",
    "print(diccionario)"
   ]
  },
  {
   "cell_type": "markdown",
   "metadata": {},
   "source": [
    "---\n",
    "Si usamos la función predefinida *len* sobre un diccionario, **obtenemos el número de parejas clave-valor que contiene el diccionario**:"
   ]
  },
  {
   "cell_type": "code",
   "execution_count": 16,
   "metadata": {},
   "outputs": [
    {
     "name": "stdout",
     "output_type": "stream",
     "text": [
      "Número de items que tiene el diccionario: 6\n"
     ]
    }
   ],
   "source": [
    "print(\"Número de items que tiene el diccionario:\", len(diccionario))"
   ]
  },
  {
   "cell_type": "markdown",
   "metadata": {},
   "source": [
    "---\n",
    "Para **eliminar una pareja clave-valor**, utilizamos la instrucción *del*:"
   ]
  },
  {
   "cell_type": "code",
   "execution_count": 17,
   "metadata": {},
   "outputs": [
    {
     "name": "stdout",
     "output_type": "stream",
     "text": [
      "{'clave1': 'valor1_modificado', 'clave2': 'valor2', 'clave3': 'valor3', 'clave5': 'valor5', 'clave6': 'valor6'}\n"
     ]
    },
    {
     "ename": "KeyError",
     "evalue": "'clave4'",
     "output_type": "error",
     "traceback": [
      "\u001b[1;31m---------------------------------------------------------------------------\u001b[0m",
      "\u001b[1;31mKeyError\u001b[0m                                  Traceback (most recent call last)",
      "\u001b[1;32md:\\FUNDAMENTOS DE PROGRAMACION\\Mi repositorio FP\\doc\\notebooks\\6. Diccionarios y conjuntos\\Diccionarios y conjuntos.ipynb Cell 46\u001b[0m line \u001b[0;36m6\n\u001b[0;32m      <a href='vscode-notebook-cell:/d%3A/FUNDAMENTOS%20DE%20PROGRAMACION/Mi%20repositorio%20FP/doc/notebooks/6.%20Diccionarios%20y%20conjuntos/Diccionarios%20y%20conjuntos.ipynb#X63sZmlsZQ%3D%3D?line=2'>3</a>\u001b[0m \u001b[39mprint\u001b[39m(diccionario)\n\u001b[0;32m      <a href='vscode-notebook-cell:/d%3A/FUNDAMENTOS%20DE%20PROGRAMACION/Mi%20repositorio%20FP/doc/notebooks/6.%20Diccionarios%20y%20conjuntos/Diccionarios%20y%20conjuntos.ipynb#X63sZmlsZQ%3D%3D?line=4'>5</a>\u001b[0m \u001b[39m# Si intento borrar una clave inexistente, obtengo un error\u001b[39;00m\n\u001b[1;32m----> <a href='vscode-notebook-cell:/d%3A/FUNDAMENTOS%20DE%20PROGRAMACION/Mi%20repositorio%20FP/doc/notebooks/6.%20Diccionarios%20y%20conjuntos/Diccionarios%20y%20conjuntos.ipynb#X63sZmlsZQ%3D%3D?line=5'>6</a>\u001b[0m \u001b[39mdel\u001b[39;00m diccionario[\u001b[39m\"\u001b[39;49m\u001b[39mclave4\u001b[39;49m\u001b[39m\"\u001b[39;49m]\n",
      "\u001b[1;31mKeyError\u001b[0m: 'clave4'"
     ]
    }
   ],
   "source": [
    "# Borrado de una pareja clave-valor\n",
    "del diccionario[\"clave4\"]\n",
    "print(diccionario)\n",
    "\n",
    "# Si intento borrar una clave inexistente, obtengo un error\n",
    "del diccionario[\"clave4\"]"
   ]
  },
  {
   "cell_type": "markdown",
   "metadata": {},
   "source": [
    "Podemos **borrar todo el contenido de un diccionario**, mediante el método clear:"
   ]
  },
  {
   "cell_type": "code",
   "execution_count": null,
   "metadata": {},
   "outputs": [],
   "source": [
    "diccionario.clear()\n",
    "print(diccionario)"
   ]
  },
  {
   "cell_type": "markdown",
   "metadata": {},
   "source": [
    "---\n",
    "En ocasiones necesitaremos realizar alguna tarea utilizando únicamente las claves o los valores de un diccionario. Para **obtener todas las claves o los valores** de un diccionario usaremos los métodos `keys` y `values`:"
   ]
  },
  {
   "cell_type": "code",
   "execution_count": null,
   "metadata": {},
   "outputs": [],
   "source": [
    "diccionario = {\"clave1\": \"valor1\", \"clave2\": \"valor2\", \"clave3\": \"valor3\"}\n",
    "print(diccionario.keys())\n",
    "print(diccionario.values())"
   ]
  },
  {
   "cell_type": "markdown",
   "metadata": {},
   "source": [
    " Las claves o los valores se obtienen encapsulados en un objeto especial. Lo único que debemos saber de estos objetos es que son iterables, es decir, que podemos recorrerlos en un bucle *for* (lo veremos más adelante), o utilizarlos para inicializar una lista, por ejemplo:"
   ]
  },
  {
   "cell_type": "code",
   "execution_count": null,
   "metadata": {},
   "outputs": [],
   "source": [
    "print(list(diccionario.keys()))"
   ]
  },
  {
   "cell_type": "markdown",
   "metadata": {},
   "source": [
    "También podemos **obtener las parejas clave-valor o items**, en forma de tuplas, mediante el método `items`:"
   ]
  },
  {
   "cell_type": "code",
   "execution_count": null,
   "metadata": {},
   "outputs": [],
   "source": [
    "print(diccionario.items())"
   ]
  },
  {
   "cell_type": "markdown",
   "metadata": {},
   "source": [
    "---\n",
    "Para acabar con las operaciones básicas, podemos consultar la pertenencia de una clave a un diccionario mediante el operador *in*, que puede aparecer combinado con el operador *not*:"
   ]
  },
  {
   "cell_type": "code",
   "execution_count": null,
   "metadata": {},
   "outputs": [],
   "source": [
    "if \"clave1\" in diccionario:\n",
    "    print(\"Existe clave1\")\n",
    "\n",
    "if \"clave4\" not in diccionario:\n",
    "    print(\"No existe clave4\")"
   ]
  },
  {
   "cell_type": "markdown",
   "metadata": {},
   "source": [
    "## 2.3. Recorrido de diccionarios <a id=\"sec_recorrido\"/>"
   ]
  },
  {
   "cell_type": "markdown",
   "metadata": {},
   "source": [
    "Si utilizamos un diccionario en una instrucción ```for ... in ...```, obtendremos en cada iteración una clave del diccionario:"
   ]
  },
  {
   "cell_type": "code",
   "execution_count": null,
   "metadata": {},
   "outputs": [],
   "source": [
    "for clave in diccionario:\n",
    "    print(clave)"
   ]
  },
  {
   "cell_type": "markdown",
   "metadata": {},
   "source": [
    "Si queremos acceder en cada paso del bucle también al valor correspondiente, podemos hacerlo así:"
   ]
  },
  {
   "cell_type": "code",
   "execution_count": null,
   "metadata": {},
   "outputs": [],
   "source": [
    "for clave in diccionario:\n",
    "    valor = diccionario[clave]\n",
    "    print(clave, valor)"
   ]
  },
  {
   "cell_type": "markdown",
   "metadata": {},
   "source": [
    "O usando el método *items*, lo cual queda más compacto y legible:"
   ]
  },
  {
   "cell_type": "code",
   "execution_count": null,
   "metadata": {},
   "outputs": [],
   "source": [
    "for clave, valor in diccionario.items():\n",
    "    print(clave, valor)"
   ]
  },
  {
   "cell_type": "markdown",
   "metadata": {},
   "source": [
    "Si no necesitamos la información de las claves para el tratamiento que estamos implementando, es posible iterar únicamente sobre los valores:"
   ]
  },
  {
   "cell_type": "code",
   "execution_count": null,
   "metadata": {},
   "outputs": [],
   "source": [
    "for valor in diccionario.values():\n",
    "    print(valor)"
   ]
  },
  {
   "cell_type": "markdown",
   "metadata": {},
   "source": [
    "## 2.4. Definición de diccionarios por comprensión <a id=\"sec_definicion\"/>"
   ]
  },
  {
   "cell_type": "markdown",
   "metadata": {},
   "source": [
    "Al igual que con las listas, es posible definir un diccionario por comprensión. La sintaxis es parecida a la de la definición de listas por comprensión, con dos diferencias:\n",
    "* Se usan las llaves en lugar de los corchetes.\n",
    "* En donde escribíamos la expresión generadora, ahora debemos escribir dos expresiones, separadas por dos puntos. La primera de ellas indica cómo se generan las claves, y la segunda cómo se generan los valores. \n",
    "\n",
    "En el siguiente ejemplo construimos un diccionario a partir de una lista de nombres. Las claves serán cada uno de los nombres de la lista, y el valor asociado será la posición que ocupa ese nombre en la lista, empezando en 1:"
   ]
  },
  {
   "cell_type": "code",
   "execution_count": null,
   "metadata": {},
   "outputs": [
    {
     "name": "stdout",
     "output_type": "stream",
     "text": [
      "{'Miguel': 1, 'Ana': 2, 'José María': 3, 'Guillermo': 4, 'María': 5, 'Luisa': 6}\n"
     ]
    }
   ],
   "source": [
    "nombres = [\"Miguel\", \"Ana\", \"José María\", \"Guillermo\", \"María\", \"Luisa\"]\n",
    "ranking = {nombre: nombres.index(nombre) + 1 for nombre in nombres}\n",
    "\n",
    "print(ranking)"
   ]
  },
  {
   "cell_type": "markdown",
   "metadata": {},
   "source": [
    "Este otro ejemplo muestra cómo construir un diccionario que almacene la frecuencia de aparición de cada carácter de un texto de entrada:"
   ]
  },
  {
   "cell_type": "code",
   "execution_count": null,
   "metadata": {},
   "outputs": [
    {
     "name": "stdout",
     "output_type": "stream",
     "text": [
      "{'t': 4, 'ó': 2, 'o': 5, 'm': 1, 'r': 5, 'e': 10, 'g': 1, 'n': 6, 'q': 1, 'i': 6, 'd': 1, 'c': 2, 'u': 3, 'p': 5, 's': 4, 'ñ': 1, 'a': 4, 'l': 1, 'x': 1, 'b': 1, 'f': 1}\n"
     ]
    }
   ],
   "source": [
    "texto = \"este es un pequeño texto para probar la siguiente definición por comprensión\"\n",
    "# Iteramos sobre set(texto) para no repetir los cálculos varias veces para la misma letra\n",
    "frecuencias_caracteres = {caracter: texto.count(caracter) for caracter in set(texto) if caracter!=\" \"}\n",
    "print(frecuencias_caracteres)"
   ]
  },
  {
   "cell_type": "markdown",
   "metadata": {},
   "source": [
    "Un último ejemplo, en el que a partir de un texto construimos un diccionario con las palabras indexadas por sus iniciales:"
   ]
  },
  {
   "cell_type": "code",
   "execution_count": null,
   "metadata": {},
   "outputs": [],
   "source": [
    "texto = \"este es un pequeño texto para probar la siguiente definición por comprensión\"\n",
    "iniciales = {palabra[0] for palabra in texto.split()}\n",
    "palabras_por_iniciales = {inicial: [palabra for palabra in texto.split() \n",
    "                                    if palabra[0]==inicial] \n",
    "                          for inicial in iniciales}\n",
    "print(palabras_por_iniciales)"
   ]
  },
  {
   "cell_type": "markdown",
   "metadata": {},
   "source": [
    "## 2.5. El tipo _Counter_ <a id=\"sec_counter\"/>"
   ]
  },
  {
   "cell_type": "markdown",
   "metadata": {},
   "source": [
    "El tipo ```Counter``` es una especialización del tipo diccionario ```dict```, en la que los valores siempre son de tipo entero. Están pensados para representar conteos. \n",
    "\n",
    "Supongamos que queremos saber cuántas veces aparecen en una lista cada uno de los elementos que la componen. Este problema se puede resolver con un diccionario, en el que las claves serán los distintos elementos que aparecen en la lista y los valores serán dichos conteos. Dicho diccionario puede crearse de esta forma:"
   ]
  },
  {
   "cell_type": "code",
   "execution_count": null,
   "metadata": {},
   "outputs": [
    {
     "name": "stdout",
     "output_type": "stream",
     "text": [
      "{1: 2, 6: 4, 3: 1, 5: 1, 9: 2, 2: 2, 0: 2, 4: 1}\n",
      "¿Cuántas veces aparece el 6?: 4 veces.\n"
     ]
    },
    {
     "ename": "KeyError",
     "evalue": "7",
     "output_type": "error",
     "traceback": [
      "\u001b[1;31m---------------------------------------------------------------------------\u001b[0m",
      "\u001b[1;31mKeyError\u001b[0m                                  Traceback (most recent call last)",
      "\u001b[1;32md:\\FUNDAMENTOS DE PROGRAMACION\\Mi repositorio FP\\doc\\notebooks\\6. Diccionarios y conjuntos\\Diccionarios y conjuntos.ipynb Cell 75\u001b[0m line \u001b[0;36m1\n\u001b[0;32m      <a href='vscode-notebook-cell:/d%3A/FUNDAMENTOS%20DE%20PROGRAMACION/Mi%20repositorio%20FP/doc/notebooks/6.%20Diccionarios%20y%20conjuntos/Diccionarios%20y%20conjuntos.ipynb#Y134sZmlsZQ%3D%3D?line=7'>8</a>\u001b[0m \u001b[39mprint\u001b[39m(\u001b[39m\"\u001b[39m\u001b[39m¿Cuántas veces aparece el 6?:\u001b[39m\u001b[39m\"\u001b[39m, contador[\u001b[39m6\u001b[39m], \u001b[39m\"\u001b[39m\u001b[39mveces.\u001b[39m\u001b[39m\"\u001b[39m)\n\u001b[0;32m     <a href='vscode-notebook-cell:/d%3A/FUNDAMENTOS%20DE%20PROGRAMACION/Mi%20repositorio%20FP/doc/notebooks/6.%20Diccionarios%20y%20conjuntos/Diccionarios%20y%20conjuntos.ipynb#Y134sZmlsZQ%3D%3D?line=9'>10</a>\u001b[0m \u001b[39m# Cuidado con preguntar por un elemento que no existía en la lista original\u001b[39;00m\n\u001b[1;32m---> <a href='vscode-notebook-cell:/d%3A/FUNDAMENTOS%20DE%20PROGRAMACION/Mi%20repositorio%20FP/doc/notebooks/6.%20Diccionarios%20y%20conjuntos/Diccionarios%20y%20conjuntos.ipynb#Y134sZmlsZQ%3D%3D?line=10'>11</a>\u001b[0m \u001b[39mprint\u001b[39m(\u001b[39m\"\u001b[39m\u001b[39m¿Cuántas veces aparece el 7?:\u001b[39m\u001b[39m\"\u001b[39m, contador[\u001b[39m7\u001b[39;49m], \u001b[39m\"\u001b[39m\u001b[39mveces.\u001b[39m\u001b[39m\"\u001b[39m)\n",
      "\u001b[1;31mKeyError\u001b[0m: 7"
     ]
    }
   ],
   "source": [
    "lista = [1, 6, 6, 3, 5, 9, 6, 6, 1, 2, 2, 0, 9, 4, 0]\n",
    "contador = {}\n",
    "for elemento in lista:\n",
    "    contador[elemento] = contador.get(elemento, 0) + 1\n",
    "print(contador)\n",
    "\n",
    "# Puedo acceder al conteo de un elemento concreto preguntándole al contador por esa clave\n",
    "print(\"¿Cuántas veces aparece el 6?:\", contador[6], \"veces.\")\n",
    "\n",
    "# Cuidado con preguntar por un elemento que no existía en la lista original\n",
    "print(\"¿Cuántas veces aparece el 7?:\", contador[7], \"veces.\")"
   ]
  },
  {
   "cell_type": "markdown",
   "metadata": {},
   "source": [
    "Este problema aparece frecuentemente de una forma u otra como paso intermedio para resolver muchos algoritmos. Es por ello que ya viene resuelto por el tipo ```Counter```. Observa cómo se utiliza:"
   ]
  },
  {
   "cell_type": "code",
   "execution_count": null,
   "metadata": {},
   "outputs": [
    {
     "name": "stdout",
     "output_type": "stream",
     "text": [
      "Counter({6: 4, 1: 2, 9: 2, 2: 2, 0: 2, 3: 1, 5: 1, 4: 1})\n",
      "¿Cuántas veces aparece el 6?: 4 veces.\n",
      "¿Cuántas veces aparece el 7?: 0 veces.\n"
     ]
    }
   ],
   "source": [
    "from collections import Counter\n",
    "\n",
    "contador = Counter(lista)\n",
    "print(contador)\n",
    "\n",
    "# Puedo acceder al conteo de un valor concreto preguntándole al contador por esa clave\n",
    "print(\"¿Cuántas veces aparece el 6?:\", contador[6], \"veces.\")\n",
    "\n",
    "# A diferencia de los diccionarios, si pregunto por una clave que no existe no obtengo KeyError,\n",
    "# sino que me devuelve el valor 0\n",
    "print(\"¿Cuántas veces aparece el 7?:\", contador[7], \"veces.\")"
   ]
  },
  {
   "cell_type": "markdown",
   "metadata": {},
   "source": [
    "Además de ser mucho más sencilla su inicialización, pues se encarga de implementar el algoritmo de conteo, y de permitir la consulta de elementos no observados (devolviéndonos cero en dichos casos), también nos permite actualizar los conteos de manera sencilla. Una opción es actualzar los conteos a partir de nuevas observaciones de elementos:"
   ]
  },
  {
   "cell_type": "code",
   "execution_count": null,
   "metadata": {},
   "outputs": [
    {
     "ename": "NameError",
     "evalue": "name 'Counter' is not defined",
     "output_type": "error",
     "traceback": [
      "\u001b[1;31m---------------------------------------------------------------------------\u001b[0m",
      "\u001b[1;31mNameError\u001b[0m                                 Traceback (most recent call last)",
      "\u001b[1;32md:\\FUNDAMENTOS DE PROGRAMACION\\Mi repositorio FP\\doc\\notebooks\\6. Diccionarios y conjuntos\\Diccionarios y conjuntos.ipynb Cell 79\u001b[0m line \u001b[0;36m2\n\u001b[0;32m      <a href='vscode-notebook-cell:/d%3A/FUNDAMENTOS%20DE%20PROGRAMACION/Mi%20repositorio%20FP/doc/notebooks/6.%20Diccionarios%20y%20conjuntos/Diccionarios%20y%20conjuntos.ipynb#Y141sZmlsZQ%3D%3D?line=0'>1</a>\u001b[0m \u001b[39m# Contador vacío\u001b[39;00m\n\u001b[1;32m----> <a href='vscode-notebook-cell:/d%3A/FUNDAMENTOS%20DE%20PROGRAMACION/Mi%20repositorio%20FP/doc/notebooks/6.%20Diccionarios%20y%20conjuntos/Diccionarios%20y%20conjuntos.ipynb#Y141sZmlsZQ%3D%3D?line=1'>2</a>\u001b[0m contador \u001b[39m=\u001b[39m Counter()\n\u001b[0;32m      <a href='vscode-notebook-cell:/d%3A/FUNDAMENTOS%20DE%20PROGRAMACION/Mi%20repositorio%20FP/doc/notebooks/6.%20Diccionarios%20y%20conjuntos/Diccionarios%20y%20conjuntos.ipynb#Y141sZmlsZQ%3D%3D?line=3'>4</a>\u001b[0m \u001b[39m# Actualiza los valores del contador a partir de una lista\u001b[39;00m\n\u001b[0;32m      <a href='vscode-notebook-cell:/d%3A/FUNDAMENTOS%20DE%20PROGRAMACION/Mi%20repositorio%20FP/doc/notebooks/6.%20Diccionarios%20y%20conjuntos/Diccionarios%20y%20conjuntos.ipynb#Y141sZmlsZQ%3D%3D?line=4'>5</a>\u001b[0m \u001b[39m# (acumula los nuevos conteos)\u001b[39;00m\n\u001b[0;32m      <a href='vscode-notebook-cell:/d%3A/FUNDAMENTOS%20DE%20PROGRAMACION/Mi%20repositorio%20FP/doc/notebooks/6.%20Diccionarios%20y%20conjuntos/Diccionarios%20y%20conjuntos.ipynb#Y141sZmlsZQ%3D%3D?line=5'>6</a>\u001b[0m contador\u001b[39m.\u001b[39mupdate(lista)\n",
      "\u001b[1;31mNameError\u001b[0m: name 'Counter' is not defined"
     ]
    }
   ],
   "source": [
    "# Contador vacío\n",
    "contador = Counter()\n",
    "\n",
    "# Actualiza los valores del contador a partir de una lista\n",
    "# (acumula los nuevos conteos)\n",
    "contador.update(lista)\n",
    "print(contador)\n",
    "contador.update([7,8,9])\n",
    "print(contador)"
   ]
  },
  {
   "cell_type": "markdown",
   "metadata": {},
   "source": [
    "Otra opción es actualizar los conteos a partir de otro diccionario con conteos. Fíjate en que no es necesario que este otro diccionario sea un ```Counter```, sino que puede ser un diccionario normal, siempre y cuando cumpla que sus valores sean de tipo entero:"
   ]
  },
  {
   "cell_type": "code",
   "execution_count": null,
   "metadata": {},
   "outputs": [
    {
     "name": "stdout",
     "output_type": "stream",
     "text": [
      "Counter({'PP': 51088, 'PSOE': 49870})\n"
     ]
    }
   ],
   "source": [
    "votos_almeria = {'PP':27544, 'PSOE':20435}\n",
    "votos_sevilla = {'PP':23544, 'PSOE':29435}\n",
    "\n",
    "contador = Counter(votos_almeria)\n",
    "contador.update(votos_sevilla)\n",
    "print(contador)"
   ]
  },
  {
   "cell_type": "markdown",
   "metadata": {},
   "source": [
    "El código anterior en realidad está \"sumando\" los conteos expresados en los diccionarios *votos_almeria* y *votos_sevilla*. El tipo ```Counter```también nos permite usar el operador + para realizar la misma tarea:"
   ]
  },
  {
   "cell_type": "code",
   "execution_count": null,
   "metadata": {},
   "outputs": [
    {
     "name": "stdout",
     "output_type": "stream",
     "text": [
      "Counter({'PP': 51088, 'PSOE': 49870})\n"
     ]
    }
   ],
   "source": [
    "contador1 = Counter(votos_almeria)\n",
    "contador2 = Counter(votos_sevilla)\n",
    "print(contador1+contador2)"
   ]
  },
  {
   "cell_type": "markdown",
   "metadata": {},
   "source": [
    "La diferencia es que ahora se obtiene un nuevo objeto ```Counter```, cada vez que se realiza la operación +. Por tanto, si necesitamos acumular muchos contadores en un solo, siempre será más eficiente utilizar el método *update*.\n",
    "\n",
    "El método *most_common* de ```Counter``` devuelve los elementos más frecuentes junto con sus conteos. En el siguiente ejemplo se obtienen las 10 palabras más frecuentes del texto de Alicia en el País de las Maravillas."
   ]
  },
  {
   "cell_type": "code",
   "execution_count": null,
   "metadata": {},
   "outputs": [
    {
     "name": "stdout",
     "output_type": "stream",
     "text": [
      "Los cinco palabras más comunes: [('de', 1053), ('que', 956), ('la', 893), ('y', 718), ('a', 692), ('el', 683), ('se', 447), ('en', 447), ('Alicia', 431), ('no', 379)]\n"
     ]
    }
   ],
   "source": [
    "import re\n",
    "\n",
    "with open('alicia.txt', encoding='utf-8') as f:\n",
    "    texto = f.read()\n",
    "    contador_palabras = Counter(re.findall(r\"\\w+\",texto))\n",
    "    print(\"Los cinco palabras más comunes:\",contador_palabras.most_common(10))"
   ]
  },
  {
   "cell_type": "markdown",
   "metadata": {},
   "source": [
    "## 2.6. El tipo _defaultdict_ <a id=\"sec_defaultdict\"/>"
   ]
  },
  {
   "cell_type": "markdown",
   "metadata": {},
   "source": [
    "En algunas ocasiones, cuando construimos diccionarios que agrupan elementos en colecciones, o que realizan sumas u otros cálculos para grupos de elementos con una misma clave, puede sernos útil el tipo ``defaultdict``. Se trata de una especialización de los diccionarios que se comporta de una forma peculiar cuando se accede a una clave que no existe: en lugar de producirse un error, ``defaultdict`` añade la clave en cuestión al diccionario, asociándole un valor inicial predefinido y devolviendo dicho valor.\n",
    "\n",
    "La utilidad de esto se ve mejor con un ejemplo. Supongamos que queremos agrupar los nombres de una lista en un diccionario, usando como clave las iniciales de los nombres. Construiremos un diccionario en el que las claves serán cadenas (iniciales) y los valores serán listas de cadenas (los nombres correspondientes a cada inicial):"
   ]
  },
  {
   "cell_type": "code",
   "execution_count": null,
   "metadata": {},
   "outputs": [
    {
     "data": {
      "text/plain": [
       "{'M': ['Miguel', 'María', 'Manuel'],\n",
       " 'A': ['Ana', 'Alicia'],\n",
       " 'J': ['José María'],\n",
       " 'G': ['Guillermo'],\n",
       " 'L': ['Luisa']}"
      ]
     },
     "execution_count": 12,
     "metadata": {},
     "output_type": "execute_result"
    }
   ],
   "source": [
    "nombres = [\"Miguel\", \"Ana\", \"José María\", \"Guillermo\", \"María\", \"Luisa\", \"Alicia\", \"Manuel\"]\n",
    "\n",
    "# Agrupemos los nombres anteriores según la inicial\n",
    "nombres_por_inicial = {}\n",
    "for nombre in nombres:\n",
    "    inicial = nombre[0]\n",
    "    # Si la inicial aún no es una clave del diccionario,\n",
    "    # añadimos al diccionario una lista vacía.\n",
    "    # Si no lo hiciéramos, la instrucción de más abajo\n",
    "    # daría un error al tratar de acceder al valor \n",
    "    # asociado a dicha clave.\n",
    "    if inicial not in nombres_por_inicial:\n",
    "        nombres_por_inicial[inicial] = []\n",
    "    \n",
    "    nombres_por_inicial[inicial].append(nombre)\n",
    "\n",
    "nombres_por_inicial"
   ]
  },
  {
   "cell_type": "markdown",
   "metadata": {},
   "source": [
    "Veamos cómo quedaría el mismo código usando ``defaultdict``. Observa que desaparece la instrucción if y la inicialización del valor de la clave con la lista vacía:"
   ]
  },
  {
   "cell_type": "code",
   "execution_count": null,
   "metadata": {},
   "outputs": [],
   "source": [
    "from collections import defaultdict\n",
    "\n",
    "# Al crear defaultdict, le indicamos de qué tipo serán los valores \n",
    "#del diccionario\n",
    "nombres_por_inicial = defaultdict(list)\n",
    "for nombre in nombres:\n",
    "    inicial = nombre[0]    \n",
    "    nombres_por_inicial[inicial].append(nombre)\n",
    "    \n",
    "nombres_por_inicial"
   ]
  },
  {
   "cell_type": "markdown",
   "metadata": {},
   "source": [
    "También podemos usar ``defaultdict`` cuando necesitemos construir un diccionario que acumule sumas. Por ejemplo, supongamos que queremos obtener un diccionario con la suma de las cantidades gastadas por cada persona, a partir de una lista en la que tenemos cada uno de los gastos registrados:"
   ]
  },
  {
   "cell_type": "code",
   "execution_count": null,
   "metadata": {},
   "outputs": [],
   "source": [
    "gastos = [(\"Miguel\", 12), (\"Ana\", 16), (\"José\", 18.5), (\"Miguel\", 5.95), (\"José\", 7.6), (\"Miguel\", 31)]\n",
    "\n",
    "gastos_por_persona = defaultdict(float)\n",
    "for nombre, gasto in gastos:\n",
    "    gastos_por_persona[nombre] += gasto\n",
    "    \n",
    "gastos_por_persona"
   ]
  }
 ],
 "metadata": {
  "anaconda-cloud": {},
  "kernelspec": {
   "display_name": "Python 3 (ipykernel)",
   "language": "python",
   "name": "python3"
  },
  "language_info": {
   "codemirror_mode": {
    "name": "ipython",
    "version": 3
   },
   "file_extension": ".py",
   "mimetype": "text/x-python",
   "name": "python",
   "nbconvert_exporter": "python",
   "pygments_lexer": "ipython3",
   "version": "3.11.6"
  }
 },
 "nbformat": 4,
 "nbformat_minor": 2
}
