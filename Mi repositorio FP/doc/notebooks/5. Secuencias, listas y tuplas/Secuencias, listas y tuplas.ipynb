{
 "cells": [
  {
   "cell_type": "markdown",
   "metadata": {},
   "source": [
    "# Fundamentos de Programación\n",
    "# Secuencias, listas y tuplas\n",
    "**Autor**: Carlos G. Vallejo, Mariano González, José A. Troyano, Fermín Cruz.   **Revisor**: Fermín Cruz, Beatriz Pontes   **Última modificación:** 24 de octubre de 2023"
   ]
  },
  {
   "cell_type": "markdown",
   "metadata": {},
   "source": [
    "## Índice de contenidos\n",
    "* [1. Secuencias](#sec_secuencias)\n",
    "  * [1.1. Rangos](#sec_rangos)\n",
    "  * [1.2. _Unpacking_](#sec_unpacking)\n",
    "  * [1.3. Operadores sobre secuencias](#sec_operadores_sec)\n",
    "  * [1.4. _Slicing_](#sec_slicing_sec)\n",
    "  * [1.5. Métodos y funciones predefinidas para secuencias](#sec_builtin_sec)\n",
    "* [2. Listas](#sec_listas)\n",
    "  * [2.1. Creación de una lista](#sec_creacion)\n",
    "  * [2.2. Acceso a una lista](#sec_acceso)\n",
    "  * [2.3. Otras operaciones con listas](#sec_otras)\n",
    "* [3. Comprensión de listas](#sec_comprension_listas)\n",
    "  * [3.1. Generadores por comprensión](#sec_generadores)\n",
    "* [4. Tuplas](#sec_tuplas)\n",
    "  *  [4.1. Tuplas con nombre](#sec_namedtuple)"
   ]
  },
  {
   "cell_type": "markdown",
   "metadata": {},
   "source": [
    "## 1. Secuencias <a id=\"sec_secuencias\"/>"
   ]
  },
  {
   "cell_type": "markdown",
   "metadata": {},
   "source": [
    "Las **secuencias** son todos aquellos tipos contenedores cuyos elementos pueden ser recorridos mediante un bucle *for*, y accedidos mediante los corchetes . Es decir, si la variable *sec* es una secuencia, podremos recorrer sus elementos mediante el siguiente código:\n",
    "\n",
    "```python\n",
    "for elemento in sec:\n",
    "   ...\n",
    "```\n",
    ", y acceder a los elementos mediante `sec[i]`, para valores de `i` mayores o iguales a 0.\n",
    "\n",
    "Además de lo anterior, con las secuencias podemos hacer una serie de operaciones, independientemente del tipo de secuencia. En esta sección estudiaremos estas operaciones comunes a todas las secuencias.\n",
    "\n",
    "Entre otros, tenemos los siguientes tipos de secuencias:\n",
    "- Listas: secuencias **mutables**, habitualmente se usan para representar colecciones ordenadas de objetos homogéneos (aunque no hay problema en que una lista contenga objetos de distintos tipos).\n",
    "- Tuplas: secuencias **inmutables**, habitualmente se usan para representar _registros_ de datos heterogéneos (aunque no hay problema en que todos los elementos de una tupla sean del mismo tipo).\n",
    "- Rangos: representación de una secuencia **inmutable** de números que habitualmente se usan como índices al iterar con un bucle <code>for</code>. Un objeto rango no contiene todos los valores de un rango, solo _está preparado para generarlos_ en el momento en el que se le solicitan (se dice que es una secuencia **perezosa**).\n",
    "\n",
    "Las cadenas también son secuencias, por lo que podemos aplicar todas las operaciones que veremos a continuación (aunque en este notebook nos centraremos en los tres tipos de secuencias que acabamos de enumerar).\n",
    "\n",
    "\n",
    "Las **listas** se construyen con corchetes y las **tuplas** con paréntesis:"
   ]
  },
  {
   "cell_type": "code",
   "execution_count": 1,
   "metadata": {
    "collapsed": false
   },
   "outputs": [
    {
     "name": "stdout",
     "output_type": "stream",
     "text": [
      "[1, 2, 3]\n",
      "(1, 2, 3)\n"
     ]
    }
   ],
   "source": [
    "lista = [1, 2, 3]\n",
    "print(lista)\n",
    "tupla = (1, 2, 3)\n",
    "print(tupla)"
   ]
  },
  {
   "cell_type": "markdown",
   "metadata": {},
   "source": [
    "Para acceder a los elementos de una secuencia se utilizan los corchetes, indicando la posición que nos interesa. La posición es un número entre <code>0</code> (la primera posición) y <code>tamaño-1</code> (la última posición). Si intentamos acceder a una posición no existente provocaremos un error, como en la última instrucción de la siguiente celda:"
   ]
  },
  {
   "cell_type": "code",
   "execution_count": 2,
   "metadata": {
    "collapsed": false
   },
   "outputs": [
    {
     "name": "stdout",
     "output_type": "stream",
     "text": [
      "1 3\n",
      "2 3\n"
     ]
    },
    {
     "ename": "IndexError",
     "evalue": "list index out of range",
     "output_type": "error",
     "traceback": [
      "\u001b[1;31m---------------------------------------------------------------------------\u001b[0m",
      "\u001b[1;31mIndexError\u001b[0m                                Traceback (most recent call last)",
      "\u001b[1;32md:\\FUNDAMENTOS DE PROGRAMACION\\Mi repositorio FP\\doc\\notebooks\\5. Secuencias, listas y tuplas\\Secuencias, listas y tuplas.ipynb Cell 7\u001b[0m line \u001b[0;36m5\n\u001b[0;32m      <a href='vscode-notebook-cell:/d%3A/FUNDAMENTOS%20DE%20PROGRAMACION/Mi%20repositorio%20FP/doc/notebooks/5.%20Secuencias%2C%20listas%20y%20tuplas/Secuencias%2C%20listas%20y%20tuplas.ipynb#W6sZmlsZQ%3D%3D?line=1'>2</a>\u001b[0m \u001b[39mprint\u001b[39m(tupla[\u001b[39m1\u001b[39m], tupla[\u001b[39m2\u001b[39m])\n\u001b[0;32m      <a href='vscode-notebook-cell:/d%3A/FUNDAMENTOS%20DE%20PROGRAMACION/Mi%20repositorio%20FP/doc/notebooks/5.%20Secuencias%2C%20listas%20y%20tuplas/Secuencias%2C%20listas%20y%20tuplas.ipynb#W6sZmlsZQ%3D%3D?line=3'>4</a>\u001b[0m \u001b[39m# ERROR: el índice 3 no existe en la variable 'lista' (el máximo es 3)\u001b[39;00m\n\u001b[1;32m----> <a href='vscode-notebook-cell:/d%3A/FUNDAMENTOS%20DE%20PROGRAMACION/Mi%20repositorio%20FP/doc/notebooks/5.%20Secuencias%2C%20listas%20y%20tuplas/Secuencias%2C%20listas%20y%20tuplas.ipynb#W6sZmlsZQ%3D%3D?line=4'>5</a>\u001b[0m \u001b[39mprint\u001b[39m(lista[\u001b[39m3\u001b[39;49m])\n",
      "\u001b[1;31mIndexError\u001b[0m: list index out of range"
     ]
    }
   ],
   "source": [
    "print(lista[0], lista[2])\n",
    "print(tupla[1], tupla[2])\n",
    "\n",
    "# ERROR: el índice 3 no existe en la variable 'lista' (el máximo es 3)\n",
    "print(lista[3])"
   ]
  },
  {
   "cell_type": "markdown",
   "metadata": {},
   "source": [
    "Los índices negativos permiten acceder a una secuencia desde el final. El índice <code>-1</code> accede a la última posición de una secuencia, el <code>-2</code> a la penúltima, y así sucesivamente. Los índices negativos se pueden usar en cualquier tipo de secuencia:"
   ]
  },
  {
   "cell_type": "code",
   "execution_count": 3,
   "metadata": {
    "collapsed": false
   },
   "outputs": [
    {
     "name": "stdout",
     "output_type": "stream",
     "text": [
      "3\n",
      "8\n"
     ]
    }
   ],
   "source": [
    "print(lista[-1])\n",
    "print((2, 4, 6, 8)[-1])"
   ]
  },
  {
   "cell_type": "markdown",
   "metadata": {},
   "source": [
    "### 1.1. Rangos  <a id=\"sec_rangos\"/>"
   ]
  },
  {
   "cell_type": "markdown",
   "metadata": {},
   "source": [
    "Los **rangos** se construyen con la función _built-in_ <code>range</code>. Si intentamos imprimir un objeto <code>range</code> solo obtendremos la información sobre sus límites. Para visualizar todos los elementos podemos debemos forzar la conversión a un objeto, por ejemplo, de tipo lista, antes de imprimirlo, o bien podríamos recorrer sus elementos en un bucle ``for``:"
   ]
  },
  {
   "cell_type": "code",
   "execution_count": 5,
   "metadata": {
    "collapsed": false
   },
   "outputs": [
    {
     "name": "stdout",
     "output_type": "stream",
     "text": [
      "Objeto de tipo rango: range(0, 10)\n",
      "Lista obtenida a partir del rango anterior: [0, 1, 2, 3, 4, 5, 6, 7, 8, 9]\n",
      "Valores obtenidos al recorrer el rango anterior: 0 1 2 3 4 5 6 7 8 9 "
     ]
    }
   ],
   "source": [
    "print(\"Objeto de tipo rango:\", range(10))\n",
    "print(\"Lista obtenida a partir del rango anterior:\", list(range(10)))\n",
    "\n",
    "print(\"Valores obtenidos al recorrer el rango anterior:\", end=\" \")\n",
    "for x in range(10):\n",
    "    print(x, end=\" \")"
   ]
  },
  {
   "cell_type": "markdown",
   "metadata": {},
   "source": [
    "Podemos especificar rangos de varias formas:\n",
    "- Indicando solo un límite superior: se genera un rango desde <code>0</code> hasta ese límite **menos uno**.\n",
    "- Indicando el límite inferior y el límite superior del rango: se genera un rango desde el límite inferior (incluido) hasta el límite superior (**excluido**).\n",
    "- Indicando ambos límites y un _paso_, que determina el incremento de un elemento del rango al siguiente.\n",
    "- Indicando un paso negativo, en ese caso el límite izquierdo debe ser mayor que el derecho.\n"
   ]
  },
  {
   "cell_type": "code",
   "execution_count": 6,
   "metadata": {
    "collapsed": false
   },
   "outputs": [
    {
     "name": "stdout",
     "output_type": "stream",
     "text": [
      "[0, 1, 2, 3, 4, 5, 6, 7, 8, 9]\n",
      "[10, 11, 12, 13, 14, 15, 16, 17, 18, 19]\n",
      "[10, 12, 14, 16, 18]\n",
      "[20, 19, 18, 17, 16, 15, 14, 13, 12, 11]\n"
     ]
    }
   ],
   "source": [
    "print(list(range(10)))\n",
    "print(list(range(10, 20)))\n",
    "print(list(range(10, 20, 2)))\n",
    "print(list(range(20, 10, -1)))"
   ]
  },
  {
   "cell_type": "markdown",
   "metadata": {},
   "source": [
    "### 1.2. _Unpacking_ <a id=\"sec_unpacking\"/>"
   ]
  },
  {
   "cell_type": "markdown",
   "metadata": {},
   "source": [
    "Se denomina **unpacking** al proceso de extraer valores desde una secuencia y guardarlos en variables independientes. Esto se consigue mediante una asignación en la que en la parte izquierda hay varias variables receptoras. \n",
    "\n",
    "Podemos aplicar **unpacking** desde cualquier secuencia: listas, tuplas y rangos. El número de elementos de la colección debe coincidir con el número de variables receptoras. Si eso no ocurre provocaremos un error, como en la última instrucción de la siguiente celda:"
   ]
  },
  {
   "cell_type": "code",
   "execution_count": 7,
   "metadata": {
    "collapsed": false
   },
   "outputs": [
    {
     "name": "stdout",
     "output_type": "stream",
     "text": [
      "1 2 3\n",
      "4 5 6\n",
      "7 8 9\n"
     ]
    },
    {
     "ename": "ValueError",
     "evalue": "too many values to unpack (expected 3)",
     "output_type": "error",
     "traceback": [
      "\u001b[1;31m---------------------------------------------------------------------------\u001b[0m",
      "\u001b[1;31mValueError\u001b[0m                                Traceback (most recent call last)",
      "\u001b[1;32md:\\FUNDAMENTOS DE PROGRAMACION\\Mi repositorio FP\\doc\\notebooks\\5. Secuencias, listas y tuplas\\Secuencias, listas y tuplas.ipynb Cell 17\u001b[0m line \u001b[0;36m9\n\u001b[0;32m      <a href='vscode-notebook-cell:/d%3A/FUNDAMENTOS%20DE%20PROGRAMACION/Mi%20repositorio%20FP/doc/notebooks/5.%20Secuencias%2C%20listas%20y%20tuplas/Secuencias%2C%20listas%20y%20tuplas.ipynb#X22sZmlsZQ%3D%3D?line=5'>6</a>\u001b[0m \u001b[39mprint\u001b[39m(a, b, c)\n\u001b[0;32m      <a href='vscode-notebook-cell:/d%3A/FUNDAMENTOS%20DE%20PROGRAMACION/Mi%20repositorio%20FP/doc/notebooks/5.%20Secuencias%2C%20listas%20y%20tuplas/Secuencias%2C%20listas%20y%20tuplas.ipynb#X22sZmlsZQ%3D%3D?line=7'>8</a>\u001b[0m \u001b[39m# ERROR: más elementos que variables receptoras\u001b[39;00m\n\u001b[1;32m----> <a href='vscode-notebook-cell:/d%3A/FUNDAMENTOS%20DE%20PROGRAMACION/Mi%20repositorio%20FP/doc/notebooks/5.%20Secuencias%2C%20listas%20y%20tuplas/Secuencias%2C%20listas%20y%20tuplas.ipynb#X22sZmlsZQ%3D%3D?line=8'>9</a>\u001b[0m a, b, c \u001b[39m=\u001b[39m [\u001b[39m1\u001b[39m, \u001b[39m2\u001b[39m, \u001b[39m3\u001b[39m, \u001b[39m4\u001b[39m]\n",
      "\u001b[1;31mValueError\u001b[0m: too many values to unpack (expected 3)"
     ]
    }
   ],
   "source": [
    "a, b, c = [1, 2, 3]\n",
    "print(a, b, c)\n",
    "a, b, c = (4, 5, 6)\n",
    "print(a, b, c)\n",
    "a, b, c = range(7, 10)\n",
    "print(a, b, c)\n",
    "\n",
    "# ERROR: más elementos que variables receptoras\n",
    "a, b, c = [1, 2, 3, 4]"
   ]
  },
  {
   "cell_type": "markdown",
   "metadata": {},
   "source": [
    "El *unpacking* se utiliza habitualmente en dos situaciones. La primera, para recoger los valores devueltos por una función, cuando la función devuelve una tupla. De esta forma podemos utilizar una variable independiente para cada uno de los valores devueltos por la función:\n",
    "```python\n",
    "def busca_alumno_mejor_calificacion(alumnos):\n",
    "    '''Devuelve el nombre del alumno con mejor nota, y dicha nota'''\n",
    "    # ...\n",
    "    # (se omite el código de la función)\n",
    "    # ...\n",
    "    # Finalmente, se devuelve el nombre y la nota encontrados:\n",
    "    return nombre, nota\n",
    "    \n",
    "# Llamamos a la función anterior, y guardamos el resultado en \n",
    "# dos variables, aprovechando el unpacking:\n",
    "alumno, calificacion = busca_alumno_mejor_calificacion(alumnos)\n",
    "```\n",
    "\n",
    "Observa que la función devuelve una tupla, por lo que, tras la ejecución de la función, se ejecutará la siguiente asignación, similar a las mostradas anteriormente:\n",
    "```python\n",
    "alumno, calificacion = (\"Miguelito Gutiérrez\", 9.5) # Suponiendo que la función haya devuelto estos valores\n",
    "```\n",
    "\n",
    "---\n",
    "\n",
    "El *unpacking* también se utiliza para recorrer los elementos de una secuencia, cuando dichos elementos son a su vez secuencias (generalmente, tuplas). Observa el siguiente ejemplo de código:\n",
    "```python\n",
    "# La lista alumnos_con_notas es de la forma [(alumno1, nota1), (alumno2,nota2), ...]\n",
    "for alumno, calificacion in alumnos_con_notas:\n",
    "   ...\n",
    "```\n",
    "\n",
    "En cada iteración del bucle, la instrucción ``for`` hará una asignación entre las variables ``alumno, calificación`` y uno de los elementos de la lista. Por ejemplo, en la primera vuelta:\n",
    "\n",
    "```python\n",
    "alumnos, calificacion = (alumno1, nota1)\n",
    "```"
   ]
  },
  {
   "cell_type": "markdown",
   "metadata": {},
   "source": [
    "### 1.3. Operadores sobre secuencias<a id=\"sec_operadores_sec\"/>"
   ]
  },
  {
   "cell_type": "markdown",
   "metadata": {},
   "source": [
    "En esta sección veremos una serie de operadores comunes a los tres tipos de secuencias. Por tanto pueden ser utilizadas con listas, tuplas, cadenas o rangos. \n",
    "\n",
    "En muchas de las celdas con las que ilustraremos estos operadores usaremos como base las siguientes listas:"
   ]
  },
  {
   "cell_type": "code",
   "execution_count": 8,
   "metadata": {
    "collapsed": true
   },
   "outputs": [],
   "source": [
    "estados = [\"nublado\", \"nublado\", \"soleado\", \"soleado\", (\"soleado\",\"ventoso\"), \"nublado\", (\"lluvioso\", \"ventoso\")]\n",
    "temperaturas = [23, 23, 28, 29, 25, 24, 20]"
   ]
  },
  {
   "cell_type": "markdown",
   "metadata": {},
   "source": [
    "El operador <code>in</code> evalua si un determinado elemento _pertenece_ a una colección. Sería el equivalente al operador matemático $\\in$. He aquí algunos ejemplos: "
   ]
  },
  {
   "cell_type": "code",
   "execution_count": 11,
   "metadata": {
    "collapsed": false
   },
   "outputs": [
    {
     "name": "stdout",
     "output_type": "stream",
     "text": [
      "True\n",
      "True\n",
      "False\n",
      "True\n",
      "True\n"
     ]
    }
   ],
   "source": [
    "# Sobre listas\n",
    "print(\"nublado\" in estados)\n",
    "print((\"lluvioso\", \"ventoso\") in estados)\n",
    "print((\"nublado\", \"ventoso\") in estados)\n",
    "\n",
    "# Sobre tuplas\n",
    "print(1 in (2, 1, 5))\n",
    "\n",
    "# Sobre rangos\n",
    "print(1 in range(10))"
   ]
  },
  {
   "cell_type": "markdown",
   "metadata": {},
   "source": [
    "El operador <code>not in</code> determina si un determinado elemento _no pertenece_ a una colección. Sería el equivalente al operador matemático $\\not\\in$. He aquí algunos ejemplos: "
   ]
  },
  {
   "cell_type": "code",
   "execution_count": 12,
   "metadata": {
    "collapsed": false
   },
   "outputs": [
    {
     "name": "stdout",
     "output_type": "stream",
     "text": [
      "True\n",
      "True\n",
      "False\n"
     ]
    }
   ],
   "source": [
    "print((\"nublado\", \"ventoso\") not in estados)\n",
    "print(1 not in range(10, 20))\n",
    "print(1 not in (2, 3, 1))"
   ]
  },
  {
   "cell_type": "markdown",
   "metadata": {},
   "source": [
    "Los operadores aritméticos <code>+</code> y <code>*</code> están definidos para listas, tuplas y cadenas (no para rangos). El significado de cada uno de ellos es el siguiente:\n",
    "- El operador <code>+</code>, entre dos secuencias, concatena dos secuencias. No se pueden concatenar secuencias de tipos distintos (por ejemplo, listas con tuplas o con cadenas).\n",
    "- El operador <code>*</code>, entre una secuencia y un número, replica la secuencia tantas veces como indique el número."
   ]
  },
  {
   "cell_type": "code",
   "execution_count": 13,
   "metadata": {
    "collapsed": false
   },
   "outputs": [
    {
     "name": "stdout",
     "output_type": "stream",
     "text": [
      "[23, 23, 28, 29, 25, 24, 20, 22]\n",
      "[23, 23, 28, 29, 25, 24, 20, 23, 23, 28, 29, 25, 24, 20]\n",
      "(1, 2, 3, 4)\n",
      "(1, 2, 1, 2)\n"
     ]
    }
   ],
   "source": [
    "# Sobre listas\n",
    "print(temperaturas + [22])\n",
    "print(temperaturas * 2)\n",
    "\n",
    "# Sobre tuplas\n",
    "print((1, 2) + (3, 4))\n",
    "print((1, 2) * 2)"
   ]
  },
  {
   "cell_type": "markdown",
   "metadata": {},
   "source": [
    "La prioridad de los operadores es similar a la de los operadores aritméticos. De mayor a menor prioridad, este es el orden en el que se aplican los operadores de manejo de secuencias:\n",
    "- Operador <code>*</code>\n",
    "- Operador <code>+</code>\n",
    "- Operadores <code>in</code>, <code>not in</code>"
   ]
  },
  {
   "cell_type": "code",
   "execution_count": 14,
   "metadata": {
    "collapsed": false
   },
   "outputs": [
    {
     "name": "stdout",
     "output_type": "stream",
     "text": [
      "[1, 2, 2, 2]\n",
      "True\n"
     ]
    }
   ],
   "source": [
    "print([1] + [2] * 3)\n",
    "print(1 in [2] + [1])"
   ]
  },
  {
   "cell_type": "markdown",
   "metadata": {},
   "source": [
    "Los operadores anteriores se pueden utilizar con cadenas:"
   ]
  },
  {
   "cell_type": "code",
   "execution_count": 16,
   "metadata": {},
   "outputs": [
    {
     "name": "stdout",
     "output_type": "stream",
     "text": [
      "True\n",
      "innato\n",
      "jajaja\n"
     ]
    }
   ],
   "source": [
    "print(\"h\" in \"Almohada\")\n",
    "print(\"in\" + \"nato\")\n",
    "print(\"ja\"*3)"
   ]
  },
  {
   "cell_type": "markdown",
   "metadata": {},
   "source": [
    "### ¡Prueba tú!"
   ]
  },
  {
   "cell_type": "code",
   "execution_count": 18,
   "metadata": {
    "collapsed": true
   },
   "outputs": [
    {
     "name": "stdout",
     "output_type": "stream",
     "text": [
      "[(1, 'Lunes'), (2, 'Martes'), (3, 'Miercoles'), (4, 'Jueves'), (5, 'Viernes'), (6, 'Sabado'), (7, 'Domingo')]\n"
     ]
    }
   ],
   "source": [
    "# Crea una lista, llamada \"nombres\", con los nombres de los días de la semana\n",
    "nombres = [\"Lunes\", \"Martes\", \"Miercoles\", \"Jueves\", \"Viernes\", \"Sabado\", \"Domingo\"]\n",
    "# Crea una lista de tuplas (orden, nombre del día), llamada \"dias_nombres\", para todos los días del año 2018\n",
    "dias_nombre = [(1,nombres[0]),(2,nombres[1]),(3,nombres[2]),(4,nombres[3]),(5,nombres[4]),(6,nombres[5]),(7,nombres[6])]\n",
    "# Las primeras tuplas serían [(1, \"lunes\"), (2, \"martes\"), ...]code>key</code>\n",
    "print(dias_nombre)"
   ]
  },
  {
   "cell_type": "markdown",
   "metadata": {},
   "source": [
    "### 1.4. _Slicing_ <a id=\"sec_slicing_sec\"/>"
   ]
  },
  {
   "cell_type": "markdown",
   "metadata": {},
   "source": [
    "El **slicing** nos permite seleccionar un fragmento de una secuencia. Se usa para ello el operador <code>:</code> dentro de los corchetes, que nos permite especificar un rango de acceso a los elementos de la secuencia. Como en los rangos,se  incluye el límite inferior, pero se excluye el límite superior. Se puede aplicar _slicing_ sobre listas, tuplas, cadenas y rangos:"
   ]
  },
  {
   "cell_type": "code",
   "execution_count": 19,
   "metadata": {
    "collapsed": false
   },
   "outputs": [
    {
     "name": "stdout",
     "output_type": "stream",
     "text": [
      "[23, 28]\n",
      "(4, 6)\n",
      "range(13, 16)\n",
      "[13, 14, 15]\n",
      "María\n"
     ]
    }
   ],
   "source": [
    "# Sobre listas\n",
    "print(temperaturas[1:3])\n",
    "\n",
    "# Sobre tuplas\n",
    "print((2, 4, 6, 8, 9)[1:3])\n",
    "\n",
    "# Sobre rangos\n",
    "print(range(10,20)[3:6])\n",
    "print(list(range(10,20)[3:6]))\n",
    "\n",
    "# Sobre cadenas\n",
    "print(\"María Gómez\"[0:5])"
   ]
  },
  {
   "cell_type": "markdown",
   "metadata": {},
   "source": [
    "No es obligatorio definir ambos límites al especificar un _slicing_. Si no se especifica el límite inferior, se seleccionan los elementos de la secuencia desde el principio. Si no se especifica el límite superior, se seleccionan los elementos de la secuencia hasta el final:"
   ]
  },
  {
   "cell_type": "code",
   "execution_count": 21,
   "metadata": {
    "collapsed": false
   },
   "outputs": [
    {
     "name": "stdout",
     "output_type": "stream",
     "text": [
      "[23, 23]\n",
      "[25, 24, 20]\n",
      "[23, 23, 28, 29, 25, 24, 20]\n"
     ]
    }
   ],
   "source": [
    "print(temperaturas[:2])\n",
    "print(temperaturas[4:])\n",
    "print(temperaturas[:])"
   ]
  },
  {
   "cell_type": "markdown",
   "metadata": {},
   "source": [
    "Se puede hacer _slicing_ tanto con índices positivos como con índices negativos:"
   ]
  },
  {
   "cell_type": "code",
   "execution_count": 22,
   "metadata": {
    "collapsed": false
   },
   "outputs": [
    {
     "name": "stdout",
     "output_type": "stream",
     "text": [
      "[25, 24, 20]\n"
     ]
    }
   ],
   "source": [
    "print(temperaturas[-3:]) # Los tres últimos elementos"
   ]
  },
  {
   "cell_type": "markdown",
   "metadata": {},
   "source": [
    "Al igual que ocurría en la definición de rangos, a la hora de especificar un _slicing_ se pueden indicar los límites junto con un _paso_. De esta forma, gracias al _paso_, se puede hacer una selección no continua de los elementos de la colección:  "
   ]
  },
  {
   "cell_type": "code",
   "execution_count": 23,
   "metadata": {
    "collapsed": false
   },
   "outputs": [
    {
     "name": "stdout",
     "output_type": "stream",
     "text": [
      "[23, 28, 25, 20]\n"
     ]
    }
   ],
   "source": [
    "print(temperaturas[0:7:2])"
   ]
  },
  {
   "cell_type": "markdown",
   "metadata": {},
   "source": [
    "### ¡Prueba tú!"
   ]
  },
  {
   "cell_type": "code",
   "execution_count": 26,
   "metadata": {
    "collapsed": true
   },
   "outputs": [
    {
     "name": "stdout",
     "output_type": "stream",
     "text": [
      "[(3, 'Miercoles'), (4, 'Jueves'), (5, 'Viernes'), (6, 'Sabado'), (7, 'Domingo')]\n"
     ]
    }
   ],
   "source": [
    "# Obtén mediante slicing las tuplas (orden, nombre del día) de los primeros 10 días de la lista 'dias_nombres'\n",
    "\n",
    "# Obtén mediante slicing las tuplas (orden, nombre del día) de los últimos 10 días de la lista 'dias_nombres'\n",
    "\n",
    "# Obtén mediante slicing las tuplas (orden, nombre del día) de todos los domingos de la lista 'dias_nombres'\n",
    "print(dias_nombre[2:])"
   ]
  },
  {
   "cell_type": "markdown",
   "metadata": {},
   "source": [
    "### 1.5. Métodos y funciones predefinidas  para secuencias <a id=\"sec_builtin_sec\"/>"
   ]
  },
  {
   "cell_type": "markdown",
   "metadata": {},
   "source": [
    "En esta sección veremos algunas funciones predefinidas aplicables a cualquier secuencia, y también algunos métodos que se pueden ejecutar para cualquier secuencia, ya sean mutables o inmutables. \n",
    "\n",
    "La primera de estas funciones es **len** que calcula el tamaño de una secuencia: "
   ]
  },
  {
   "cell_type": "code",
   "execution_count": 27,
   "metadata": {
    "collapsed": false
   },
   "outputs": [
    {
     "name": "stdout",
     "output_type": "stream",
     "text": [
      "7\n",
      "3\n",
      "10\n"
     ]
    }
   ],
   "source": [
    "temperaturas = [23, 23, 28, 29, 25, 24, 20]\n",
    "\n",
    "print(len(temperaturas))\n",
    "print(len((2, 4, \"seis\")))\n",
    "print(len(range(10, 20)))"
   ]
  },
  {
   "cell_type": "markdown",
   "metadata": {},
   "source": [
    "La función **sum** devuelve la suma de todos los elementos de una secuencia. La aplicaremos sólo para secuencias de números:"
   ]
  },
  {
   "cell_type": "code",
   "execution_count": 28,
   "metadata": {
    "collapsed": false
   },
   "outputs": [
    {
     "name": "stdout",
     "output_type": "stream",
     "text": [
      "172\n"
     ]
    }
   ],
   "source": [
    "print(sum(temperaturas))"
   ]
  },
  {
   "cell_type": "markdown",
   "metadata": {},
   "source": [
    "---\n",
    "Las funciones **max** y **min** calculan, respectivamente, el máximo y el mínimo de una secuencia. Estas funciones se pueden aplicar sobre cualquier secuencia siempre que sean homogéneas (todos los elementos sean del mismo tipo) y exista una función de comparación para los elementos. Por ejemplo, los números (<code>int</code> y <code>float</code>) y las cadenas (<code>str</code>) sí tienen esas funciones de comparación. Si los elementos de la secuencia son a su vez secuencias (por ejemplo, es habitual que los elementos de una lista sean tuplas), entonces los elementos se comparan utilizando el primer elemento de las tuplas."
   ]
  },
  {
   "cell_type": "code",
   "execution_count": 29,
   "metadata": {
    "collapsed": false
   },
   "outputs": [
    {
     "name": "stdout",
     "output_type": "stream",
     "text": [
      "20\n",
      "29\n",
      "verde\n",
      "10\n",
      "(7, 5)\n"
     ]
    },
    {
     "ename": "TypeError",
     "evalue": "'>' not supported between instances of 'int' and 'str'",
     "output_type": "error",
     "traceback": [
      "\u001b[1;31m---------------------------------------------------------------------------\u001b[0m",
      "\u001b[1;31mTypeError\u001b[0m                                 Traceback (most recent call last)",
      "\u001b[1;32md:\\FUNDAMENTOS DE PROGRAMACION\\Mi repositorio FP\\doc\\notebooks\\5. Secuencias, listas y tuplas\\Secuencias, listas y tuplas.ipynb Cell 51\u001b[0m line \u001b[0;36m1\n\u001b[0;32m     <a href='vscode-notebook-cell:/d%3A/FUNDAMENTOS%20DE%20PROGRAMACION/Mi%20repositorio%20FP/doc/notebooks/5.%20Secuencias%2C%20listas%20y%20tuplas/Secuencias%2C%20listas%20y%20tuplas.ipynb#Y101sZmlsZQ%3D%3D?line=12'>13</a>\u001b[0m \u001b[39mprint\u001b[39m(\u001b[39mmax\u001b[39m(lista_tuplas))\n\u001b[0;32m     <a href='vscode-notebook-cell:/d%3A/FUNDAMENTOS%20DE%20PROGRAMACION/Mi%20repositorio%20FP/doc/notebooks/5.%20Secuencias%2C%20listas%20y%20tuplas/Secuencias%2C%20listas%20y%20tuplas.ipynb#Y101sZmlsZQ%3D%3D?line=14'>15</a>\u001b[0m \u001b[39m# ERROR: no se puede encontrar el máximo en una secuencia con tipos heterogéneos\u001b[39;00m\n\u001b[1;32m---> <a href='vscode-notebook-cell:/d%3A/FUNDAMENTOS%20DE%20PROGRAMACION/Mi%20repositorio%20FP/doc/notebooks/5.%20Secuencias%2C%20listas%20y%20tuplas/Secuencias%2C%20listas%20y%20tuplas.ipynb#Y101sZmlsZQ%3D%3D?line=15'>16</a>\u001b[0m \u001b[39mprint\u001b[39m(\u001b[39mmax\u001b[39;49m((\u001b[39m\"\u001b[39;49m\u001b[39mrojo\u001b[39;49m\u001b[39m\"\u001b[39;49m, \u001b[39m\"\u001b[39;49m\u001b[39mverde\u001b[39;49m\u001b[39m\"\u001b[39;49m, \u001b[39m1\u001b[39;49m)))\n",
      "\u001b[1;31mTypeError\u001b[0m: '>' not supported between instances of 'int' and 'str'"
     ]
    }
   ],
   "source": [
    "# Sobre listas\n",
    "print(min(temperaturas))\n",
    "print(max(temperaturas))\n",
    "\n",
    "# Sobre tuplas\n",
    "print(max((\"rojo\", \"verde\", \"azul\")))\n",
    "\n",
    "# Sobre rangos\n",
    "print(min(range(10, 20)))\n",
    "\n",
    "# Sobre listas de tuplas\n",
    "lista_tuplas = [(1,20), (2,30), (7,5)]\n",
    "print(max(lista_tuplas))\n",
    "\n",
    "# ERROR: no se puede encontrar el máximo en una secuencia con tipos heterogéneos\n",
    "print(max((\"rojo\", \"verde\", 1)))\n"
   ]
  },
  {
   "cell_type": "markdown",
   "metadata": {},
   "source": [
    "La función predefinida **reversed** calcula la inversa de una secuencia. No crea una secuencia, sino un iterador; esto significa que podemos recorrer los elementos, pero no acceder a posiciones arbitrarias mediante los corchetes. Si queremos _materializar_ la secuencia podemos hacerlo, por ejemplo, con la función <code>list</code>:"
   ]
  },
  {
   "cell_type": "code",
   "execution_count": 30,
   "metadata": {
    "collapsed": false
   },
   "outputs": [
    {
     "name": "stdout",
     "output_type": "stream",
     "text": [
      "<list_reverseiterator object at 0x000002246555A2C0>\n",
      "[20, 24, 25, 29, 28, 23, 23]\n",
      "<reversed object at 0x000002246555A2C0>\n",
      "[3, 2, 1]\n",
      "<range_iterator object at 0x0000022465F37ED0>\n",
      "[19, 18, 17, 16, 15, 14, 13, 12, 11, 10]\n"
     ]
    }
   ],
   "source": [
    "# Sobre listas\n",
    "print(reversed(temperaturas))\n",
    "print(list(reversed(temperaturas)))\n",
    "\n",
    "# Sobre tuplas\n",
    "print(reversed((1, 2, 3)))\n",
    "print(list(reversed((1, 2, 3))))\n",
    "\n",
    "# Sobre rangos\n",
    "print(reversed(range(10, 20)))\n",
    "print(list(reversed(range(10, 20))))"
   ]
  },
  {
   "cell_type": "markdown",
   "metadata": {},
   "source": [
    "---\n",
    "La función predefinida **sorted** crea una lista ordenada a partir de una secuencia. Se puede aplicar a cualquier secuencia (listas, tuplas o rangos) pero siempre produce una lista como salida. El parámetro <code>reverse</code> nos permite indicar si queremos aplicar un orden ascendente o descendente:"
   ]
  },
  {
   "cell_type": "code",
   "execution_count": 31,
   "metadata": {
    "collapsed": false
   },
   "outputs": [
    {
     "name": "stdout",
     "output_type": "stream",
     "text": [
      "[20, 23, 23, 24, 25, 28, 29]\n",
      "[29, 28, 25, 24, 23, 23, 20]\n",
      "[1, 2, 3]\n",
      "[11, 12, 13, 14, 15, 16, 17, 18, 19, 20]\n"
     ]
    }
   ],
   "source": [
    "# Sobre listas\n",
    "print(sorted(temperaturas))\n",
    "print(sorted(temperaturas, reverse=True))\n",
    "\n",
    "# Sobre tuplas\n",
    "print(sorted((3, 1, 2)))\n",
    "\n",
    "# Sobre rangos\n",
    "print(sorted(range(20, 10, -1)))"
   ]
  },
  {
   "cell_type": "markdown",
   "metadata": {},
   "source": [
    "Otro parámetro interesante de la función <code>sorted</code> es <code>key</code>. A través de ese parámetro podemos indicar el uso de una función de comparación específica. Por ejemplo, podemos indicarle que utilice la función predefinida <code>len</code>, de manera que primero se pasará cada elemento por dicha función y se ordenará la lista según los valores devueltos por esa función:"
   ]
  },
  {
   "cell_type": "code",
   "execution_count": 35,
   "metadata": {
    "collapsed": false
   },
   "outputs": [
    {
     "name": "stdout",
     "output_type": "stream",
     "text": [
      "['lunes', 'martes', 'jueves', 'sábado', 'viernes', 'domingo', 'miércoles']\n"
     ]
    }
   ],
   "source": [
    "# Ordena la lista de menor a mayor tamaño de las cadenas de texto\n",
    "dias = [\"lunes\", \"martes\", \"miércoles\", \"jueves\", \"viernes\", \"sábado\", \"domingo\"]\n",
    "print(sorted(dias, key=len))"
   ]
  },
  {
   "cell_type": "markdown",
   "metadata": {},
   "source": [
    "Un caso típico de aplicación del parámetro <code>key</code> es la ordenación de una lista de tuplas. El criterio de ordenación _por defecto_ de una lista de tuplas se basa en comparar los primeros componentes de las tuplas. En el siguiente ejemplo, se construye una función _lambda_ que permite ordenar las tuplas en función del segundo componente de las mismas:"
   ]
  },
  {
   "cell_type": "code",
   "execution_count": 40,
   "metadata": {
    "collapsed": false
   },
   "outputs": [
    {
     "name": "stdout",
     "output_type": "stream",
     "text": [
      "[('domingo', 20), ('lunes', 23), ('martes', 23), ('sábado', 24), ('viernes', 25), ('miércoles', 28), ('jueves', 29)]\n"
     ]
    }
   ],
   "source": [
    "dias = [\"lunes\", \"martes\", \"miércoles\", \"jueves\", \"viernes\", \"sábado\", \"domingo\"]\n",
    "dias_temps = zip(dias, temperaturas)\n",
    "#print (list(dias_temps))\n",
    "# lambda x:x[1] define la función \"dada x, devolver x[1]\"\n",
    "print(sorted(dias_temps, key=lambda x: x[1]))"
   ]
  },
  {
   "cell_type": "markdown",
   "metadata": {},
   "source": [
    "---\n",
    "Las secuencias son objetos y, como tales, tienen métodos que permiten realizar ciertas operaciones de consulta. Dos de ellos son **count** e **index**, que permiten, respectivamente, contar el número de elementos de las secuencias y, determinar el índice de la primera ocurrencia de un determinado valor. Estas operaciones se pueden aplicar a cualquier tipo de secuencia: "
   ]
  },
  {
   "cell_type": "code",
   "execution_count": 44,
   "metadata": {
    "collapsed": false
   },
   "outputs": [
    {
     "name": "stdout",
     "output_type": "stream",
     "text": [
      "3\n",
      "2\n",
      "3\n",
      "1\n",
      "Apariciones de la letra a: 6\n"
     ]
    }
   ],
   "source": [
    "# Sobre listas\n",
    "estados = [\"nublado\", \"nublado\", \"soleado\", \"soleado\", (\"soleado\",\"ventoso\"), \"nublado\", (\"lluvioso\", \"ventoso\")]\n",
    "print(estados.count(\"nublado\"))\n",
    "print(estados.index(\"soleado\"))\n",
    "\n",
    "# Sobre tuplas\n",
    "print((0, 1, 2, 2, 1, 1).count(1))\n",
    "print((0, 1, 2, 2, 1, 1).index(1))\n",
    "\n",
    "# Sobre cadenas\n",
    "texto = \"En un lugar de la Mancha de cuyo nombre no quiero acordarme\"\n",
    "print(\"Apariciones de la letra a:\", texto.count(\"a\"))"
   ]
  },
  {
   "cell_type": "markdown",
   "metadata": {},
   "source": [
    "### ¡Prueba tú!"
   ]
  },
  {
   "cell_type": "code",
   "execution_count": 45,
   "metadata": {
    "collapsed": true
   },
   "outputs": [
    {
     "name": "stdout",
     "output_type": "stream",
     "text": [
      "[(1, 'Lunes'), (2, 'Martes'), (3, 'Miercoles'), (4, 'Jueves'), (5, 'Viernes'), (6, 'Sabado'), (7, 'Domingo')]\n"
     ]
    }
   ],
   "source": [
    "# Ordena la lista 'dias_nombres' por el día de la semana\n",
    "print(sorted(dias_nombre))\n",
    "# Obtén a partir de la lista anterior las tuplas correspondientes a los 10 últimos viernes\n"
   ]
  },
  {
   "cell_type": "markdown",
   "metadata": {},
   "source": [
    "### ¡Prueba tú!"
   ]
  },
  {
   "cell_type": "code",
   "execution_count": 46,
   "metadata": {
    "collapsed": true
   },
   "outputs": [],
   "source": [
    "# Cambia la lista 'dias_nombres' para que los nombres de los días 1 y 6 pasen a ser 'lunes-festivo' y 'sábado-festivo'\n"
   ]
  },
  {
   "cell_type": "markdown",
   "metadata": {},
   "source": [
    "## 2. Listas <a id=\"sec_listas\"/>"
   ]
  },
  {
   "cell_type": "markdown",
   "metadata": {},
   "source": [
    "En muchas ocasiones tenemos varios datos que están relacionados entre sí. Las listas nos permiten almacenar todos esos datos en una misma variable, gracias a lo cual podemos realizar operaciones con todos los datos a la vez y no de uno en uno.\n",
    "\n",
    "Piensa por ejemplo en las temperaturas previstas para los próximos siete días, los nombres de  las capitales europeas o las edades de tus amigos. Si almacenas esos datos una lista, podrás acceder a cada uno de ellos por separado (la temperatura del próximo miércoles, por ejemplo), o realizar operaciones con todos a la vez (por ejemplo, saber cuál es la capital europea que tiene un nombre más largo)."
   ]
  },
  {
   "cell_type": "markdown",
   "metadata": {},
   "source": [
    "### 2.1 Creación de una lista <a id=\"sec_creacion\">"
   ]
  },
  {
   "cell_type": "markdown",
   "metadata": {
    "collapsed": true
   },
   "source": [
    "Para crear una lista escribimos su nombre y le asignamos un valor, que es una secuencia de elementos separados por comas y encerrados entre corchetes. Si solo ponemos los corchetes, estaremos creando una lista vacía, que más tarde podremos rellenar. También podemos crear una lista vacía invocando a la función ``list()``."
   ]
  },
  {
   "cell_type": "code",
   "execution_count": 47,
   "metadata": {
    "collapsed": true
   },
   "outputs": [],
   "source": [
    "# Una lista vacía:\n",
    "lista_vacia = []\n",
    "otra_lista_vacia = list()\n",
    "\n",
    "# Listas con elementos de distintos tipos:\n",
    "colores = [\"cyan\", \"magenta\", \"amarillo\"]\n",
    "temperaturas = [25.2, 24.9, 25.2, 26.7, 28.6, 29.5, 29.7]"
   ]
  },
  {
   "cell_type": "markdown",
   "metadata": {},
   "source": [
    "Observa que las listas pueden contener valores repetidos. Por ejemplo, el primer y el tercer elemento de la lista temperaturas tienen el mismo valor, aunque son dos elementos diferentes.\n",
    "\n",
    "También puedes ver que los elementos de una lista pueden ser de cualquier tipo. Incluso pueden ser tuplas, como en este otro ejemplo:"
   ]
  },
  {
   "cell_type": "code",
   "execution_count": 48,
   "metadata": {
    "collapsed": true
   },
   "outputs": [],
   "source": [
    "frecuencia_caracteres = [(23, \"e\"), (7, \"s\"), (12, \"a\")]"
   ]
  },
  {
   "cell_type": "markdown",
   "metadata": {},
   "source": [
    "Podemos incluso crear listas con elementos de tipos diferentes, si bien no es algo muy frecuente:"
   ]
  },
  {
   "cell_type": "code",
   "execution_count": 49,
   "metadata": {
    "collapsed": true
   },
   "outputs": [],
   "source": [
    "lista_mix = [\"Juan\", 23, 75.4]"
   ]
  },
  {
   "cell_type": "markdown",
   "metadata": {},
   "source": [
    "### ¡Prueba tú!\n",
    "Crea las siguientes listas:\n",
    "* Una lista con los nombres de tus amigos\n",
    "* Una lista con el nombre y la altura de 5 jugadores de baloncesto"
   ]
  },
  {
   "cell_type": "code",
   "execution_count": 63,
   "metadata": {
    "collapsed": true
   },
   "outputs": [],
   "source": [
    "edades=[34,45,56,43,234,5]"
   ]
  },
  {
   "cell_type": "markdown",
   "metadata": {},
   "source": [
    "### 2.2 Acceso a una lista <a id=\"sec_acceso\">"
   ]
  },
  {
   "cell_type": "markdown",
   "metadata": {
    "collapsed": true
   },
   "source": [
    "Podemos acceder a una lista escribiendo su nombre. Por ejemplo, para mostrar en pantalla los valores de la lista _temperaturas_ haremos lo siguiente:"
   ]
  },
  {
   "cell_type": "code",
   "execution_count": 50,
   "metadata": {
    "collapsed": false
   },
   "outputs": [
    {
     "name": "stdout",
     "output_type": "stream",
     "text": [
      "[25.2, 24.9, 25.2, 26.7, 28.6, 29.5, 29.7]\n"
     ]
    }
   ],
   "source": [
    "print(temperaturas)"
   ]
  },
  {
   "cell_type": "markdown",
   "metadata": {},
   "source": [
    "Al igual que con cualquier secuencia, podemos acceder a un elemento concreto de la lista. Para ello hemos de indicar la posición que ocupa el elemento dentro de la lista, lo cual se hace de la siguiente forma: "
   ]
  },
  {
   "cell_type": "code",
   "execution_count": 51,
   "metadata": {
    "collapsed": false
   },
   "outputs": [
    {
     "name": "stdout",
     "output_type": "stream",
     "text": [
      "La temperatura del lunes es: 25.2\n"
     ]
    }
   ],
   "source": [
    "print(\"La temperatura del lunes es:\", temperaturas[0])"
   ]
  },
  {
   "cell_type": "markdown",
   "metadata": {},
   "source": [
    "Si la lista está formada por tuplas, al acceder a un elemento tendremos una tupla. Podemos a su vez acceder a un elemento de la tupla indicando su posición. Por ejemplo, si queremos acceder al primer carácter de la lista de tuplas frecuencia_caracteres, haríamos lo siguiente:"
   ]
  },
  {
   "cell_type": "code",
   "execution_count": 52,
   "metadata": {
    "collapsed": false
   },
   "outputs": [
    {
     "name": "stdout",
     "output_type": "stream",
     "text": [
      "e\n",
      "e\n"
     ]
    }
   ],
   "source": [
    "# Accedemos a la tupla y después al carácter\n",
    "tupla = frecuencia_caracteres[0]\n",
    "primer_caracter = tupla[1]\n",
    "print(primer_caracter)\n",
    "\n",
    "# O bien, accedemos directamente al carácter:\n",
    "primer_caracter = frecuencia_caracteres[0][1]\n",
    "print(primer_caracter)"
   ]
  },
  {
   "cell_type": "markdown",
   "metadata": {},
   "source": [
    "En las listas, podemos utilizar el acceso a una posición para cambiar un elemento de la misma, o incluso un trozo de la lista, si usamos *slicing*:"
   ]
  },
  {
   "cell_type": "code",
   "execution_count": 53,
   "metadata": {
    "collapsed": false
   },
   "outputs": [
    {
     "name": "stdout",
     "output_type": "stream",
     "text": [
      "[25.2, 24.9, 25.2, 12.0, 28.6, 29.5, 29.7]\n",
      "[-1, -1, -1, 12.0, 28.6, 29.5, 29.7]\n"
     ]
    }
   ],
   "source": [
    "# Modificación de una posición\n",
    "temperaturas[3] = 12.0\n",
    "print(temperaturas)\n",
    "\n",
    "# Modificación de un grupo de posiciones\n",
    "temperaturas[0:3] = [-1, -1, -1]\n",
    "print(temperaturas)"
   ]
  },
  {
   "cell_type": "markdown",
   "metadata": {},
   "source": [
    "### 2.3 Otras operaciones con listas <a id=\"sec_otras\">"
   ]
  },
  {
   "cell_type": "markdown",
   "metadata": {
    "collapsed": true
   },
   "source": [
    "Veamos algunas operaciones básicas específicas de las listas. Ten en cuenta que, además de todas estas operaciones, con las listas podemos utilizar el resto de operaciones comunes a todas las secuencias, explicadas en la sección anterior."
   ]
  },
  {
   "cell_type": "markdown",
   "metadata": {},
   "source": [
    "Para añadir un elemento a una lista utilizamos el método **append**. El elemento se añade al final de la lista. Fíjate en su funcionamiento ejecutando el código siguiente y observando cómo cambia la lista:"
   ]
  },
  {
   "cell_type": "code",
   "execution_count": 54,
   "metadata": {
    "collapsed": false
   },
   "outputs": [
    {
     "name": "stdout",
     "output_type": "stream",
     "text": [
      "['cyan', 'magenta', 'amarillo']\n",
      "['cyan', 'magenta', 'amarillo', 'negro']\n"
     ]
    }
   ],
   "source": [
    "print(colores)\n",
    "colores.append(\"negro\")\n",
    "print(colores)"
   ]
  },
  {
   "cell_type": "markdown",
   "metadata": {},
   "source": [
    "Si queremos añadir un elemento en una posición distinta al final, podemos hacerlo mediante el método **insert**, indicando la posición donde queremos añadir elemento como primer parámetro del método:"
   ]
  },
  {
   "cell_type": "code",
   "execution_count": 55,
   "metadata": {
    "collapsed": false
   },
   "outputs": [
    {
     "name": "stdout",
     "output_type": "stream",
     "text": [
      "['rojo', 'cyan', 'magenta', 'amarillo', 'negro']\n",
      "['rojo', 'verde', 'cyan', 'magenta', 'amarillo', 'negro']\n"
     ]
    }
   ],
   "source": [
    "colores.insert(0, \"rojo\")\n",
    "print(colores)\n",
    "\n",
    "colores.insert(1, \"verde\")\n",
    "print(colores)"
   ]
  },
  {
   "cell_type": "markdown",
   "metadata": {},
   "source": [
    "---\n",
    "La operación contraria a la anterior es la de eliminar un elemento de una lista. Para hacerlo utilizamos la función **del**, a la cual hemos de pasar como parámetro la posición que ocupa en la lista el elemento que queremos eliminar. Observa su funcionamiento en el siguiente ejemplo:"
   ]
  },
  {
   "cell_type": "code",
   "execution_count": 56,
   "metadata": {
    "collapsed": false
   },
   "outputs": [
    {
     "name": "stdout",
     "output_type": "stream",
     "text": [
      "[-1, -1, -1, 12.0, 28.6, 29.5, 29.7]\n",
      "[-1, -1, 12.0, 28.6, 29.5, 29.7]\n"
     ]
    }
   ],
   "source": [
    "print(temperaturas)\n",
    "del(temperaturas[2])\n",
    "print(temperaturas)"
   ]
  },
  {
   "cell_type": "markdown",
   "metadata": {},
   "source": [
    "Observa cómo se elimina el tercer elemento de la lista, el que ocupa la posición 2. Fíjate que el primer elemento permanece, aunque su valor sea el mismo que el que hemos eliminado. Solo se elimina el que ocupa la posición indicada. Lógicamente, los elementos que le siguen ven modificada su posición: el elemento 3 pasa a ser ahora el 2, el 4 pasa a ser el 3, y así sucesivamente.\n",
    "\n",
    "También podemos eliminar todos los elementos de la lista mediante el método **clear**:"
   ]
  },
  {
   "cell_type": "code",
   "execution_count": 57,
   "metadata": {
    "collapsed": false
   },
   "outputs": [
    {
     "name": "stdout",
     "output_type": "stream",
     "text": [
      "[]\n"
     ]
    }
   ],
   "source": [
    "temperaturas.clear()\n",
    "print(temperaturas)"
   ]
  },
  {
   "cell_type": "markdown",
   "metadata": {},
   "source": [
    "---\n",
    "El método **sort** permite modificar el orden de los elementos de una lista, para que dicha lista quede ordenada. Esto también se podía conseguir con la función predefinida *sorted*, como vimos antes. La diferencia es que en este caso no se obtiene una nueva lista, sino que se altera la posición de los elementos que componen la lista."
   ]
  },
  {
   "cell_type": "code",
   "execution_count": 58,
   "metadata": {
    "collapsed": false
   },
   "outputs": [
    {
     "name": "stdout",
     "output_type": "stream",
     "text": [
      "[24.9, 25.2, 25.2, 26.7, 28.6, 29.5, 29.7]\n"
     ]
    }
   ],
   "source": [
    "temperaturas = [25.2, 24.9, 25.2, 26.7, 28.6, 29.5, 29.7]\n",
    "\n",
    "temperaturas.sort()\n",
    "print(temperaturas)"
   ]
  },
  {
   "cell_type": "markdown",
   "metadata": {},
   "source": [
    "El método *sort* dispone de los mismos parámetros opcionales de la función *sorted*, esto es:\n",
    "* El parámetro *reverse*, para indicar que queremos ordenar de mayor a menor.\n",
    "* El parámetro *key*, para indicar una función de comparación específica."
   ]
  },
  {
   "cell_type": "markdown",
   "metadata": {},
   "source": [
    "Además de sort, también tenemos el método **reverse**, que invierte la posición de los elementos de una lista:"
   ]
  },
  {
   "cell_type": "code",
   "execution_count": 59,
   "metadata": {
    "collapsed": false
   },
   "outputs": [
    {
     "name": "stdout",
     "output_type": "stream",
     "text": [
      "[29.7, 29.5, 28.6, 26.7, 25.2, 25.2, 24.9]\n"
     ]
    }
   ],
   "source": [
    "temperaturas.reverse()\n",
    "print(temperaturas)"
   ]
  },
  {
   "cell_type": "markdown",
   "metadata": {},
   "source": [
    "## 3. Definición de listas por comprensión <a id=\"sec_comprension_listas\"/>"
   ]
  },
  {
   "cell_type": "markdown",
   "metadata": {},
   "source": [
    "Python nos permite crear una lista por comprensión (en inglés, *comprehension*). Esto tiene mucha relación con la definición de conjuntos por comprensión de las matemáticas. Sea por ejemplo, en matemáticas esta expresión:\n",
    "$$ S = \\{x^2 |\\ x \\in [3, 7), x \\  impar\\}$$\n",
    "\n",
    "Esta expresión matemática se podría leer así: **Sea el conjunto S formado por el cuadrado de x para todas las x del intervale [3, 7) tales que x sea impar**. El conjunto del ejemplo contiene por tanto los valores 9 y 25. \n",
    "\n",
    "En Python, podemos obtener una lista con los elementos del conjunto anterior usando la definición por comprensión de listas de la siguiente forma:"
   ]
  },
  {
   "cell_type": "code",
   "execution_count": 60,
   "metadata": {
    "collapsed": false
   },
   "outputs": [
    {
     "name": "stdout",
     "output_type": "stream",
     "text": [
      "[9, 25]\n"
     ]
    }
   ],
   "source": [
    "s = [x**2 for x in range(3, 7) if x % 2 == 1]\n",
    "print(s)"
   ]
  },
  {
   "cell_type": "markdown",
   "metadata": {},
   "source": [
    "Compara esta definición del conjunto en Python con la definición matemática anterior. En realidad, esta definición por comprensión es equivalente al siguiente código:"
   ]
  },
  {
   "cell_type": "code",
   "execution_count": 61,
   "metadata": {},
   "outputs": [
    {
     "name": "stdout",
     "output_type": "stream",
     "text": [
      "[9, 25]\n"
     ]
    }
   ],
   "source": [
    "s = list()\n",
    "for x in range(3, 7):\n",
    "    if x % 2 == 1:\n",
    "        s.append(x**2)\n",
    "print(s)"
   ]
  },
  {
   "cell_type": "markdown",
   "metadata": {},
   "source": [
    "Generalizando lo anterior, si tenemos un trozo de código que construye una lista de esta forma:\n",
    "``` python\n",
    "nueva_lista = []\n",
    "for e in vieja_lista:\n",
    "    if filtro(e):\n",
    "        nueva_lista.append(transformacion(e))\n",
    "```\n",
    "Se puede escribir, usando comprensión, como:\n",
    "```python\n",
    "nueva_lista = [transformacion(e) for e in vieja_lista if filtro(e)]\n",
    "```\n",
    "Vamos a ver esto con un ejemplo. Supongamos que de la lista `edades` anterior queremos obtener una nueva lista, `mayores_edad` con las que sean mayores o iguales que 21. Escribiríamos:"
   ]
  },
  {
   "cell_type": "code",
   "execution_count": 64,
   "metadata": {
    "collapsed": false
   },
   "outputs": [
    {
     "name": "stdout",
     "output_type": "stream",
     "text": [
      "[34, 45, 56, 43, 234, 5]\n",
      "[34, 45, 56, 43, 234]\n"
     ]
    }
   ],
   "source": [
    "print(edades)\n",
    "mayores_edad = [e for e in edades if e >= 21]\n",
    "print(mayores_edad)"
   ]
  },
  {
   "cell_type": "markdown",
   "metadata": {},
   "source": [
    "### ¡Prueba tú!\n",
    "Prueba a definir una lista temperaturas_menores, a partir de la lista temperaturas, con las temperaturas menores que 27 grados."
   ]
  },
  {
   "cell_type": "code",
   "execution_count": null,
   "metadata": {
    "collapsed": true
   },
   "outputs": [],
   "source": []
  },
  {
   "cell_type": "markdown",
   "metadata": {},
   "source": [
    "La definición de listas por comprensión es muy cómoda, compacta y expresiva. No obstante, no debemos abusar de ella; si la expresión que escribimos es muy compleja se puede volver muy difícil de leer. En ese caso sería preferible la definición \"clásica\" o \"imperativa\" de la lista, como hemos hecho hasta ahora."
   ]
  },
  {
   "cell_type": "markdown",
   "metadata": {},
   "source": [
    "### 3.1. Generadores por comprensión <a id=\"sec_generadores\"/>"
   ]
  },
  {
   "cell_type": "markdown",
   "metadata": {},
   "source": [
    "Si utilizamos la misma sintaxis de la definición de listas por comprensión pero obviando los corchetes de inicio y fin, diremos que tenemos un generador por comprensión. Sin entrar en muchos detalles, un generador por comprensión define una manera de obtener una secuencia, pero sin almacenar cada uno de esos elementos en la memoria del ordenador (como sí ocurría al definir una lista por comprensión). La utilidad de estos generadores es que podemos usarlos en cualquier sitio donde usaríamos una estructura de datos iterable (por ejemplo, una lista). \n",
    "\n",
    "Observa este ejemplo:"
   ]
  },
  {
   "cell_type": "code",
   "execution_count": 66,
   "metadata": {},
   "outputs": [
    {
     "name": "stdout",
     "output_type": "stream",
     "text": [
      "Suma de los numeros: 307\n",
      "Suma de los numeros pares: 188\n"
     ]
    }
   ],
   "source": [
    "def suma_numeros(lista):\n",
    "    suma = 0\n",
    "    for e in lista:\n",
    "        suma += e\n",
    "    return suma\n",
    "\n",
    "\n",
    "numeros = [12, 14, 15, 23, 76, 54, 32, 81]\n",
    "print(\"Suma de los numeros:\",\n",
    "       suma_numeros(numeros)\n",
    "       )\n",
    "\n",
    "numeros_pares = [n for n in numeros if n % 2 == 0]\n",
    "print(\"Suma de los numeros pares:\", \n",
    "      suma_numeros(numeros_pares)\n",
    "      )"
   ]
  },
  {
   "cell_type": "markdown",
   "metadata": {},
   "source": [
    "Para poder usar la función ``suma_numeros`` para calcular la suma de los números de la lista ``numeros`` que sean pares, hemos creado una lista intermedia ``numeros_pares``. Le pasamos esta nueva lista a la función y obtenemos la suma de los números pares de la lista ``numeros``. \n",
    "\n",
    "Pero, ¿es necesario crear una nueva lista con esos elementos pares? Usando un generador por comprensión, no lo es:"
   ]
  },
  {
   "cell_type": "code",
   "execution_count": 67,
   "metadata": {},
   "outputs": [
    {
     "name": "stdout",
     "output_type": "stream",
     "text": [
      "Suma de los numeros pares: 188\n"
     ]
    }
   ],
   "source": [
    "print(\"Suma de los numeros pares:\", \n",
    "      suma_numeros(n for n in numeros if n % 2 == 0)\n",
    "      )"
   ]
  },
  {
   "cell_type": "markdown",
   "metadata": {},
   "source": [
    "Aunque ambas soluciones obtienen el mismo resultado, la ventaja principal de esta última es que no se está creando una segunda lista en memoria con los números pares. Es, por tanto, una solución más eficiente.\n",
    "\n",
    "Por supuesto, no es necesario definir ninguna función ``suma_numeros`` para resolver el problema anterior. Podemos usar la función predefinida ``sum()``:"
   ]
  },
  {
   "cell_type": "code",
   "execution_count": 68,
   "metadata": {},
   "outputs": [
    {
     "name": "stdout",
     "output_type": "stream",
     "text": [
      "Suma de los numeros pares: 188\n"
     ]
    }
   ],
   "source": [
    "print(\"Suma de los numeros pares:\", \n",
    "      sum(n for n in numeros if n % 2 == 0)\n",
    "      )"
   ]
  },
  {
   "cell_type": "markdown",
   "metadata": {},
   "source": [
    "Podemos usar los generadores por comprensión como parámetro de cualquier función que realice cálculos sobre secuencias:"
   ]
  },
  {
   "cell_type": "code",
   "execution_count": 69,
   "metadata": {},
   "outputs": [
    {
     "name": "stdout",
     "output_type": "stream",
     "text": [
      "Números de la lista mayores a 30, ordenados de menor a mayor: [32, 54, 76, 81]\n"
     ]
    }
   ],
   "source": [
    "print(\"Números de la lista mayores a 30, ordenados de menor a mayor:\",\n",
    "      sorted(n for n in numeros if n > 30)\n",
    "      )"
   ]
  },
  {
   "cell_type": "markdown",
   "metadata": {},
   "source": [
    "## 4. Tuplas  <a id=\"sec_tuplas\"/>"
   ]
  },
  {
   "cell_type": "markdown",
   "metadata": {},
   "source": [
    "Una tupla es un tipo de secuencia similiar a las listas pero que es inmutable. Esto quiere decir que, una vez creada, no podemos añadir, eliminar ni modificar elementos.  \n",
    "\n",
    "Así como las listas se pueden definir por sus elementos colocados entre corchetes y separados por comas, las tuplas se pueden definir por sus elementos colocados entre paréntesis y separados también por comas:"
   ]
  },
  {
   "cell_type": "code",
   "execution_count": 70,
   "metadata": {
    "collapsed": false
   },
   "outputs": [
    {
     "name": "stdout",
     "output_type": "stream",
     "text": [
      "<class 'int'>\n",
      "<class 'tuple'>\n"
     ]
    }
   ],
   "source": [
    "t = (1, 2, 3)\n",
    "\n",
    "t = 4, 5, 6   # En algunos casos, los paréntesis son opcionales...\n",
    "\n",
    "lista_tuplas = [(1,2), (3,4), (5,6)] # ... salvo que las tuplas sean elementos de otras secuencias...\n",
    "lista_tuplas.append((7,8)) # ... o le pasemos una tupla como parámetro a una función\n",
    "\n",
    "t = (1)  # Esto NO es una tupla de un elemento\n",
    "print(type(t))\n",
    "\n",
    "t = (1,) # Hay que añadir una coma al final para definir tuplas de un solo elemento\n",
    "print(type(t))"
   ]
  },
  {
   "cell_type": "markdown",
   "metadata": {},
   "source": [
    "Podemos construir tuplas a partir de otras secuencias usando la función predefinida **tuple**:"
   ]
  },
  {
   "cell_type": "code",
   "execution_count": 71,
   "metadata": {
    "collapsed": false
   },
   "outputs": [
    {
     "name": "stdout",
     "output_type": "stream",
     "text": [
      "(34, 45, 56, 43, 234, 5)\n"
     ]
    }
   ],
   "source": [
    "tupla_pares_menores_20 = tuple(edades)\n",
    "print(tupla_pares_menores_20)"
   ]
  },
  {
   "cell_type": "markdown",
   "metadata": {},
   "source": [
    "---\n",
    "Las tuplas, a diferencia de las listas, sí suelen usarse con elementos no homogéneos; pueden usarse, por ejemplo, para modelar diferentes características de un objeto. Por ejemplo, podemos definir las tuplas"
   ]
  },
  {
   "cell_type": "code",
   "execution_count": 72,
   "metadata": {
    "collapsed": false,
    "scrolled": true
   },
   "outputs": [
    {
     "name": "stdout",
     "output_type": "stream",
     "text": [
      "('John', 'Doe', 'varón', 23, 1.83, 87.3) ('Jane', 'Doe', 'mujer', 25, 1.62, 64.0)\n"
     ]
    }
   ],
   "source": [
    "persona1 = \"John\", \"Doe\", \"varón\", 23, 1.83, 87.3\n",
    "persona2 = (\"Jane\", \"Doe\", \"mujer\", 25, 1.62, 64.0)\n",
    "print(persona1, persona2)"
   ]
  },
  {
   "cell_type": "markdown",
   "metadata": {},
   "source": [
    "Podemos referenciar cada uno de los elementos de una tupla mediante una variable (aplicando **unpacking**) y tratarlos posteriormente como variables independientes:"
   ]
  },
  {
   "cell_type": "code",
   "execution_count": 73,
   "metadata": {
    "collapsed": false
   },
   "outputs": [
    {
     "name": "stdout",
     "output_type": "stream",
     "text": [
      "John Doe\n",
      "24\n",
      "('John', 'Doe', 'varón', 23, 1.83, 87.3)\n"
     ]
    }
   ],
   "source": [
    "nombre, apellidos, sexo, edad, estatura, peso = persona1\n",
    "print(nombre, apellidos)\n",
    "edad += 1\n",
    "print(edad)\n",
    "print(persona1)"
   ]
  },
  {
   "cell_type": "markdown",
   "metadata": {},
   "source": [
    "Las tuplas se usan frecuentemente para devolver varios valores en una función. Por ejemplo:"
   ]
  },
  {
   "cell_type": "code",
   "execution_count": 74,
   "metadata": {
    "collapsed": false
   },
   "outputs": [
    {
     "name": "stdout",
     "output_type": "stream",
     "text": [
      "(653, 54)\n"
     ]
    }
   ],
   "source": [
    "def devuelve_dos_mayores(lista):\n",
    "    mayor = max(lista)\n",
    "    lista.remove(mayor)\n",
    "    segundo_mayor = max(lista)\n",
    "    return mayor, segundo_mayor\n",
    "\n",
    "mayores = devuelve_dos_mayores([6, 2, 54, 1, 653, 32, 53])\n",
    "print(mayores)"
   ]
  },
  {
   "cell_type": "markdown",
   "metadata": {},
   "source": [
    "Y se suele combinar con el _unpacking_, como vimos antes:"
   ]
  },
  {
   "cell_type": "code",
   "execution_count": 75,
   "metadata": {},
   "outputs": [
    {
     "name": "stdout",
     "output_type": "stream",
     "text": [
      "653 54\n"
     ]
    }
   ],
   "source": [
    "mayor1, mayor2 = devuelve_dos_mayores([6, 2, 54, 1, 653, 32, 53])\n",
    "print(mayor1, mayor2)"
   ]
  },
  {
   "cell_type": "markdown",
   "metadata": {},
   "source": [
    "### ¡Prueba tú!\n",
    "Escribe una función `calcula_estadisticos` que reciba una secuencia de números y devuelva el máximo, el mínimo y la media."
   ]
  },
  {
   "cell_type": "code",
   "execution_count": 6,
   "metadata": {
    "collapsed": true
   },
   "outputs": [
    {
     "name": "stdout",
     "output_type": "stream",
     "text": [
      "el mayor es 556\n",
      "el menor es -4\n",
      "la media es :  55.57142857142857\n"
     ]
    }
   ],
   "source": [
    "lista_ej = (1,45,34,556,35,34,67,-4,3,7)\n",
    "\n",
    "def calcula_estadisticos(lista):\n",
    "    mayor = max(lista)\n",
    "    menor = min(lista)\n",
    "    media = sum(lista)/14\n",
    "    print( \"el mayor es\", mayor)\n",
    "    print( \"el menor es\", menor)\n",
    "    print(\"la media es : \", media)\n",
    "\n",
    "calcula_estadisticos(lista_ej)"
   ]
  },
  {
   "cell_type": "markdown",
   "metadata": {},
   "source": [
    "### 3.1 Tuplas con nombre <a id=\"sec_namedtuple\">"
   ]
  },
  {
   "cell_type": "markdown",
   "metadata": {},
   "source": [
    "El uso de tuplas para representar a una entidad mediante una serie de campos de datos es habitual y práctico, pero el uso del operador de acceso habitual de las secuencias (es decir, el uso de corchetes e índices) a veces puede comprometer la legibilidad del código, y por tanto, su mantenimiento. Y, además, son frecuentes los errores, por ejemplo al usar un índice que no se corresponda con el campo al que queremos acceder.\n",
    "\n",
    "Una solución elegante es la utilización del tipo ```namedtuple```. Para ello, lo primero que hacemos es crearnos un tipo tupla personalizado, poniendo un nombre tanto al tipo de tupla que estamos creando como a cada uno de los campos:"
   ]
  },
  {
   "cell_type": "code",
   "execution_count": 76,
   "metadata": {
    "collapsed": true
   },
   "outputs": [],
   "source": [
    "from collections import namedtuple\n",
    "\n",
    "Persona = namedtuple(\"Persona\", \"nombre, apellidos, sexo, edad, altura, peso\")\n",
    "# Otra opción es pasar los nombres de los campos como una lista:\n",
    "# Persona = namedtuple(\"Persona\", [\"nombre\", \"apellidos\", \"sexo\", \"edad\", \"altura\", \"peso\"])"
   ]
  },
  {
   "cell_type": "markdown",
   "metadata": {},
   "source": [
    "La llamada a ``namedtuple`` nos devuelve una función de construcción de tuplas. Usando esta función (que hemos almacenado en el ejemplo anterior en la variable ``Persona``), podemos crear tuplas con los campos que hemos especificado anteriormente:"
   ]
  },
  {
   "cell_type": "code",
   "execution_count": 77,
   "metadata": {
    "collapsed": true
   },
   "outputs": [
    {
     "name": "stdout",
     "output_type": "stream",
     "text": [
      "Persona(nombre='John', apellidos='Doe', sexo='varón', edad=23, altura=1.83, peso=87.3)\n"
     ]
    }
   ],
   "source": [
    "persona1 = Persona(\"John\", \"Doe\", \"varón\", 23, 1.83, 87.3)\n",
    "print(persona1)"
   ]
  },
  {
   "cell_type": "markdown",
   "metadata": {},
   "source": [
    "Una vez hecho esto, podemos acceder a los campos indicando sus nombres, de esta forma:"
   ]
  },
  {
   "cell_type": "code",
   "execution_count": 81,
   "metadata": {
    "collapsed": true
   },
   "outputs": [
    {
     "name": "stdout",
     "output_type": "stream",
     "text": [
      "Nombre y apellidos: John Doe\n",
      "Edad: 23\n",
      "Sexo: varón\n",
      "Altura: 1.83\n"
     ]
    }
   ],
   "source": [
    "print(\"Nombre y apellidos:\", persona1.nombre, persona1.apellidos)\n",
    "print(\"Edad:\", persona1.edad)\n",
    "print(\"Sexo:\", persona1.sexo)\n",
    "\n",
    "# Se pueden seguir usando los índices para acceder a los elementos,\n",
    "# aunque no es lo recomendable\n",
    "print(\"Altura:\", persona1[4])"
   ]
  }
 ],
 "metadata": {
  "anaconda-cloud": {},
  "kernelspec": {
   "display_name": "Python 3",
   "language": "python",
   "name": "python3"
  },
  "language_info": {
   "codemirror_mode": {
    "name": "ipython",
    "version": 3
   },
   "file_extension": ".py",
   "mimetype": "text/x-python",
   "name": "python",
   "nbconvert_exporter": "python",
   "pygments_lexer": "ipython3",
   "version": "3.11.6"
  }
 },
 "nbformat": 4,
 "nbformat_minor": 2
}
