{
 "cells": [
  {
   "attachments": {},
   "cell_type": "markdown",
   "metadata": {},
   "source": [
    "# Fundamentos de Programación\n",
    "# Funciones\n",
    "**Autor**: Fermín Cruz.   **Revisores**: José A. Troyano, Carlos G. Vallejo, Mariano González, Beatriz Pontes  **Última modificación:** 9 de septiembre de 2023"
   ]
  },
  {
   "attachments": {},
   "cell_type": "markdown",
   "metadata": {},
   "source": [
    "## Índice de contenidos\n",
    "* [1. Definición e invocación de funciones](#sec_definicion)\n",
    "* [2. Paso de parámetros](#sec_paso)\n",
    " * [2.1. Parámetros con valores por defecto](#sec_defecto)\n",
    " * [2.2. Referencia de parámetros por nombre](#sec_nombre)\n",
    "* [3. Funciones como parámetros](#sec_ordensuperior)\n",
    " * [3.1. Definición de funciones sin nombre](#sec_lambda)\n",
    "* [4. Tipado de la definición de funciones](#sec_tipado)"
   ]
  },
  {
   "attachments": {},
   "cell_type": "markdown",
   "metadata": {},
   "source": [
    "## 1. Definición e invocación de funciones <a id=\"sec_definicion\"/>"
   ]
  },
  {
   "attachments": {},
   "cell_type": "markdown",
   "metadata": {},
   "source": [
    "Un principio fundamental que debe seguir todo programador es el de la **reutilización del código**. Los lenguajes de programación nos ofrecen diversos mecanismos de reutilización que nos permiten implementar una única vez una funcionalidad y utilizarla múltiples veces. Uno de estos mecanismos de reutilización en Python es la **definición e invocación de funciones**. \n",
    "\n",
    "Como ya hemos visto anteriormente, la **definición** de una función consta de un bloque de instrucciones que llevan a cabo alguna tarea concreta y a la que le ponemos un nombre. Cuando escribimos estas instrucciones dentro de la definición de una función permitimos la ejecución \"a demanda\" de ese bloque de instrucciones, de manera que en cualquier punto del programa se puede solicitar la ejecución de la función (se dice que se hace una **llamada** o **invocación** a la función). "
   ]
  },
  {
   "cell_type": "code",
   "execution_count": null,
   "metadata": {
    "collapsed": true,
    "jupyter": {
     "outputs_hidden": true
    }
   },
   "outputs": [],
   "source": [
    "def imprime_linea():\n",
    "    ''' Imprime una línea formada por 40 repeticiones de los caracteres -= '''\n",
    "    linea = \"-=\" * 40\n",
    "    print(linea)\n",
    "\n",
    "# Vamos a imprimir 5 líneas\n",
    "for i in range(5):\n",
    "    imprime_linea()"
   ]
  },
  {
   "attachments": {},
   "cell_type": "markdown",
   "metadata": {},
   "source": [
    "La primera línea de la definición se llama **cabecera** o **prototipo** de la función, y al resto de instrucciones que aparecen indentadas se las denomina **cuerpo** de la función. \n",
    "\n",
    "Algunas veces las funciones generan un **valor de salida** o de **retorno**, valor que será utilizado como resultado tras la ejecución de la función cuando es invocada en el contexto de una expresión. Podemos definir una función parecida a la anterior pero que *devuelva* la cadena de texto que representa la línea, en lugar de imprimirla:"
   ]
  },
  {
   "cell_type": "code",
   "execution_count": null,
   "metadata": {
    "collapsed": true,
    "jupyter": {
     "outputs_hidden": true
    }
   },
   "outputs": [],
   "source": [
    "def linea():\n",
    "    ''' Devuelve una cadena de texto formada por 40 repeticiones de los caracteres -= '''\n",
    "    return \"-=\" * 40"
   ]
  },
  {
   "attachments": {},
   "cell_type": "markdown",
   "metadata": {},
   "source": [
    "Si ahora queremos usar esta función para imprimir 5 líneas en pantalla, habría que hacerlo así:"
   ]
  },
  {
   "cell_type": "code",
   "execution_count": null,
   "metadata": {
    "collapsed": true,
    "jupyter": {
     "outputs_hidden": true
    }
   },
   "outputs": [],
   "source": [
    "# Vamos a imprimir 5 líneas\n",
    "for i in range(5):\n",
    "    print(linea())"
   ]
  },
  {
   "attachments": {},
   "cell_type": "markdown",
   "metadata": {},
   "source": [
    "Las instrucciones contenidas en la definición de una función son ejecutadas cuando se ejecuta alguna instrucción que contenga una llamada a la función. En el ejemplo anterior, al ejecutarse la línea `print(linea())` es cuando se desencadena la ejecución de las instrucciones de la función `linea`, que en este caso únicamente contiene la instrucción `return`. Una vez ejecutado el cuerpo de la función, el flujo de ejecución vuelve a la línea en la que aparecía la llamada, utilizándose el valor devuelto por la función para continuar ejecutando el programa. En el ejemplo, se ejecutaría la función predefinida `print` con el valor devuelto por la función `linea`, lo que muestra la cadena de caracteres correspondiente en pantalla. Para más detalles sobre el flujo de ejecución en la invocación de funciones, consulta el notebook de teoría 3, sección 1.\n"
   ]
  },
  {
   "attachments": {},
   "cell_type": "markdown",
   "metadata": {},
   "source": [
    "# 2. Paso de parámetros <a id=\"sec_paso\"/>"
   ]
  },
  {
   "attachments": {},
   "cell_type": "markdown",
   "metadata": {},
   "source": [
    "Para que las funciones nos permitan implementar funcionalidades realmente útiles y reutilizables es fundamental contar con un mecanismo de **paso de parámetros**. Los **parámetros** o **argumentos** (*arguments*) de una función son variables que permiten que la función reciba determinados valores con los que llevar a cabo su funcionalidad. En el momento de la invocación a la función, el programador especifica el valor que desea *pasarle* a dichos parámetros, de manera que se lleva a cabo una asignación entre las variables que representan a los parámetros en la función y los valores especificados en la llamada. \n",
    "\n",
    "Veamos un ejemplo consistente en una nueva definición de la función `imprime_linea`:"
   ]
  },
  {
   "cell_type": "code",
   "execution_count": null,
   "metadata": {
    "collapsed": true,
    "jupyter": {
     "outputs_hidden": true
    }
   },
   "outputs": [],
   "source": [
    "def imprime_linea(repeticiones):\n",
    "    ''' Imprime una línea formada por repeticiones de los caracteres -=\n",
    "    \n",
    "    El parámetro repeticiones permite indicar el número de repeticiones de \n",
    "    los caracteres que forman la línea a imprimir.\n",
    "    '''\n",
    "    linea = \"-=\" * repeticiones\n",
    "    print(linea)\n",
    "\n",
    "# Vamos a imprimir 5 líneas\n",
    "for i in range(5):\n",
    "    imprime_linea(40)"
   ]
  },
  {
   "attachments": {},
   "cell_type": "markdown",
   "metadata": {},
   "source": [
    "Hemos añadido un parámetro de nombre `repeticiones`, de manera que la línea que imprime la función estará formada por tantas repeticiones de la cadena `\"-=\"` como indique dicho parámetro. Al haber añadido un parámetro conseguimos que la tarea que lleva a cabo la función sea más genérica, más configurable, por lo que habrá más ocasiones en las que podamos emplear la función. Por tanto, es importante decidir bien los parámetros para conseguir nuestro objetivo de la reutilización del código.\n",
    "\n",
    "También podríamos hacer que los caracteres que forman la línea puedan ser escogidos en el momento de la invocación, añadiendo un nuevo parámetro:"
   ]
  },
  {
   "cell_type": "code",
   "execution_count": null,
   "metadata": {
    "collapsed": true,
    "jupyter": {
     "outputs_hidden": true
    }
   },
   "outputs": [],
   "source": [
    "def imprime_linea(repeticiones, cadena):\n",
    "    ''' Imprime una línea formada por repeticiones de caracteres\n",
    "    \n",
    "    El parámetro \"repeticiones\" permite indicar el número de repeticiones de \n",
    "    los caracteres que forman la línea a imprimir.\n",
    "    El parámetro \"cadena\" permite indicar la cadena que se repetirá para \n",
    "    construir la línea.\n",
    "    '''\n",
    "    linea = cadena * repeticiones\n",
    "    print(linea)\n",
    "\n",
    "# Vamos a imprimir 5 líneas\n",
    "for i in range(5):\n",
    "    imprime_linea(40, \"-.\")"
   ]
  },
  {
   "attachments": {},
   "cell_type": "markdown",
   "metadata": {},
   "source": [
    "Veamos otro ejemplo en el que tras definir una función podemos invocarla en el contexto de una expresión:"
   ]
  },
  {
   "cell_type": "code",
   "execution_count": null,
   "metadata": {
    "collapsed": true,
    "jupyter": {
     "outputs_hidden": true
    }
   },
   "outputs": [],
   "source": [
    "def pvp(precio_sin_iva, iva_reducido):\n",
    "    ''' Devuelve el Precio de Venta al Público a partir de un precio sin IVA \n",
    "    \n",
    "    El parámetro \"precio_sin_iva\" sirve para indicar el precio sobre el que calcular el PVP.\n",
    "    Si el parámetro \"iva_reducido\" es True, se aplicará el 10%. Si es False, el 21%.\n",
    "    '''   \n",
    "    if iva_reducido:\n",
    "        precio_con_iva = precio_sin_iva * 1.1\n",
    "    else:\n",
    "        precio_con_iva = precio_sin_iva * 1.21\n",
    "    return precio_con_iva\n",
    "\n",
    "# Test de la función anterior\n",
    "precio = float(input(\"Precio del producto: \"))\n",
    "unidades = int(input(\"Número de unidades: \"))\n",
    "precio_total = pvp(precio, False) * unidades  \n",
    "print(\"El precio total con IVA es\", precio_total)\n"
   ]
  },
  {
   "attachments": {},
   "cell_type": "markdown",
   "metadata": {},
   "source": [
    "## 2.1. Parámetros con valores por defecto <a id=\"sec_defecto\"/>"
   ]
  },
  {
   "attachments": {},
   "cell_type": "markdown",
   "metadata": {},
   "source": [
    "En la última definición de la función `imprime_linea` hemos incorporado parámetros para elegir la cadena concreta a utilizar y el número de repeticiones de la misma. Si bien *parametrizar* todos los detalles de una función la hace más configurable y por tanto también más reutilizable, tiene la desventaja de que dificultamos su utilización, puesto que obligamos al programador que la quiera utilizar a elegir valores para todos los parámetros. Esto puede solucionarse utilizando **parámetros con valores por defecto** (también llamados **parámetros opcionales**).\n",
    "\n",
    "Mediante este mecanismo, Python nos permite elegir valores por defecto para algunos de los parámetros de una función. De esta forma, cuando la función es invocada, el programador puede optar por ignorar dichos parámetros, en cuyo caso se tomarán los valores por defecto. Volvamos a definir la función `imprime_linea` usando esta característica:"
   ]
  },
  {
   "cell_type": "code",
   "execution_count": null,
   "metadata": {
    "collapsed": true,
    "jupyter": {
     "outputs_hidden": true
    }
   },
   "outputs": [],
   "source": [
    "def imprime_linea(repeticiones=40, cadena=\"-=\"):\n",
    "    ''' Imprime una línea formada por repeticiones de caracteres\n",
    "    \n",
    "    El parámetro \"repeticiones\" permite indicar el número de repeticiones de \n",
    "    los caracteres que forman la línea a imprimir.\n",
    "    El parámetro \"cadena\" permite indicar la cadena que se repetirá para \n",
    "    construir la línea.\n",
    "    '''\n",
    "    linea = cadena * repeticiones\n",
    "    print(linea)"
   ]
  },
  {
   "attachments": {},
   "cell_type": "markdown",
   "metadata": {},
   "source": [
    "Observa que los valores por defecto se añaden en la cabecera de la función, añadiendo un carácter `=` detrás del parámetro y a continuación su valor por defecto. Ahora podemos realizar llamadas a la función en las que aparezcan o no \n",
    "valores para los argumentos:"
   ]
  },
  {
   "cell_type": "code",
   "execution_count": null,
   "metadata": {
    "collapsed": true,
    "jupyter": {
     "outputs_hidden": true
    }
   },
   "outputs": [],
   "source": [
    "imprime_linea()\n",
    "imprime_linea(20) \n",
    "imprime_linea(20, \":)\")"
   ]
  },
  {
   "attachments": {},
   "cell_type": "markdown",
   "metadata": {},
   "source": [
    "Por supuesto podemos combinar parámetros con valores por defecto y parámetros sin valores por defecto (podemos llamarles **parámetros obligatorios** a estos últimos). En ese caso, siempre deben venir primero los parámetros obligatorios y a continuación los parámetros con valores por defecto. Es decir, nunca puede aparecer un parámetro obligatorio después de un parámetro con valor por defecto (¿sabrías decir por qué?).\n",
    "\n",
    "Redefinamos la función `pvp` para que por defecto use el tipo de IVA normal:"
   ]
  },
  {
   "cell_type": "code",
   "execution_count": null,
   "metadata": {
    "collapsed": true,
    "jupyter": {
     "outputs_hidden": true
    }
   },
   "outputs": [],
   "source": [
    "def pvp(precio_sin_iva, iva_reducido=False):\n",
    "    ''' Devuelve el Precio de Venta al Público a partir de un precio sin IVA \n",
    "    \n",
    "    El parámetro \"precio_sin_iva\" sirve para indicar el precio sobre el que calcular el PVP.\n",
    "    Si el parámetro \"iva_reducido\" es True, se aplicará el 10%. Si es False, el 21%.\n",
    "    '''\n",
    "    if iva_reducido:\n",
    "        precio_con_iva = precio_sin_iva * 1.1\n",
    "    else:\n",
    "        precio_con_iva = precio_sin_iva * 1.21\n",
    "    return precio_con_iva\n",
    "\n",
    "# Test de la función anterior\n",
    "precio = float(input(\"Precio del producto: \"))\n",
    "unidades = int(input(\"Número de unidades: \"))\n",
    "precio_total = pvp(precio) * unidades  # Ahora no es necesario indicar el valor para el parámetro iva_reducido\n",
    "print(\"El precio total con IVA es\", precio_total)"
   ]
  },
  {
   "attachments": {},
   "cell_type": "markdown",
   "metadata": {},
   "source": [
    "Si en algún momento queremos calcular un PVP para un producto con IVA reducido, entonces habría que hacer:\n",
    "```python\n",
    "pvp(precio, True)\n",
    "```"
   ]
  },
  {
   "attachments": {},
   "cell_type": "markdown",
   "metadata": {},
   "source": [
    "## 2.2. Referencia de parámetros por nombre <a id=\"sec_nombre\"/>"
   ]
  },
  {
   "attachments": {},
   "cell_type": "markdown",
   "metadata": {},
   "source": [
    "Al invocar a una función, Python nos permite especificar los parámetros de dos maneras distintas:\n",
    "\n",
    "* Mediante **parámetros posicionales**, esto es, pasando una lista de valores separados por comas, de manera que esos valores se asignan a los parámetros de la función en el orden en que estos aparecen en la cabecera de la función. Este es el método que hemos utilizado hasta ahora.\n",
    "* Mediante **parámetros por nombre**, esto es, indicando para cada parámetro el nombre y el valor que queremos asignarle. De esta manera, no es necesario que respetemos el orden en que dichos parámetros están especificados en la cabecera de la función.\n",
    "\n",
    "Veamos algunos ejemplos de llamadas a función usando parámetros por nombre:"
   ]
  },
  {
   "cell_type": "code",
   "execution_count": null,
   "metadata": {
    "collapsed": true,
    "jupyter": {
     "outputs_hidden": true
    }
   },
   "outputs": [],
   "source": [
    "imprime_linea(repeticiones=10, cadena=\":;\")\n",
    "imprime_linea(repeticiones=10)\n",
    "imprime_linea(cadena=\":;\")"
   ]
  },
  {
   "attachments": {},
   "cell_type": "markdown",
   "metadata": {},
   "source": [
    "Fíjate que en la primera llamada estamos especificando valores para todos los parámetros de la función. En este caso, usar parámetros por nombre realmente no ayuda mucho, y de hecho hace que la llamada sea más larga de escribir. Por ello en la mayoría de las ocasiones optaremos por escribir los parámetros posicionales, sin indicar el nombre (aunque el uso de los parámetros por nombre ciertamente hace que el código sea más legible).\n",
    "\n",
    "Sin embargo, cuando los parámetros por nombre se usan para indicar sólo algunos valores de parámetros con valores por defecto, es cuando realmente son prácticos. Por ejemplo, la llamada `imprime_linea(cadena=\":;\")` indica un valor para el parámetro *cadena*, obviando el valor para *repeticiones*. Esto no podría hacerse mediante una llamada con parámetros posicionales, puesto que el parámetro *repeticiones* es el primero que aparece.\n",
    "\n",
    "En general, se suele proceder de la siguiente manera:\n",
    "\n",
    "* Cuando una función tiene una serie de parámetros sin valores por defecto, se utilizan llamadas con parámetros posicionales (es decir, sin indicar el nombre de cada parámetro en la llamada).\n",
    "* Si además la función tiene parámetros con valores por defecto, el programador utiliza en la llamada parámetros con nombre para indicar únicamente los valores que quiere especificar, entendiendo que el resto de parámetros se quedan con su valor por defecto.\n",
    "\n",
    "Esta manera de proceder permite diseñar funciones con un gran número de parámetros con valores por defecto, sin influir negativamente en la dificultad de utilización de dichas funciones, puesto que el programador puede especificar valores únicamente para los parámetros que necesite. Este tipo de diseños es muy habitual en Python; por ejemplo, observa estas llamadas a la función `pyplot.plot` de `matplotlib`:"
   ]
  },
  {
   "cell_type": "code",
   "execution_count": null,
   "metadata": {
    "collapsed": true,
    "jupyter": {
     "outputs_hidden": true
    }
   },
   "outputs": [],
   "source": [
    "# Para que las gráficas se muestren sobre el propio notebook, en lugar de en una ventana, hay que escribir:\n",
    "%matplotlib inline    \n",
    "\n",
    "from matplotlib import pyplot  # pyplot es el módulo que permite dibujar gráficas matemáticas\n",
    "\n",
    "x = [0, 1, 2, 3, 4, 5]\n",
    "y = [6, 5, 4, 5, 6, 5]\n",
    "pyplot.plot(x, y) # Muestra los puntos con coordenadas x e y \n"
   ]
  },
  {
   "cell_type": "code",
   "execution_count": null,
   "metadata": {
    "collapsed": true,
    "jupyter": {
     "outputs_hidden": true
    }
   },
   "outputs": [],
   "source": [
    "%matplotlib inline  \n",
    "# Podemos configurar el formato de la gráfica especificando valores para algunos parámetros opcionales\n",
    "pyplot.plot(x, y, color='green', linestyle='dashed', marker='o',\n",
    "     markerfacecolor='blue', markersize=12) "
   ]
  },
  {
   "attachments": {},
   "cell_type": "markdown",
   "metadata": {},
   "source": [
    "Cuando utilizamos parámetros por nombre en una invocación podemos poner los parámetros en el orden que queramos. Prueba a cambiar de orden los parámetros opcionales de la llamada a la función `pyplot.plot` del ejemplo anterior y observa cómo se ejecuta correctamente."
   ]
  },
  {
   "attachments": {},
   "cell_type": "markdown",
   "metadata": {},
   "source": [
    "### ¡Prueba tú!\n",
    "Añade a la función pvp un tercer parámetro `unidades` que represente del número de unidades del producto y que por defecto valga 1. Añade las pruebas necesarias. Prueba los parámetros por nombres en la función `pvp`. Prueba también a cambiar el orden en la llamada. ¿Podemos hacer la llamada solo con los parámetros precio y unidades, omitiendo el nombre del parámetro en este último? Compruébalo. ¿Por qué se utiliza el iva reducido en este caso?"
   ]
  },
  {
   "cell_type": "code",
   "execution_count": null,
   "metadata": {
    "collapsed": true,
    "jupyter": {
     "outputs_hidden": true
    }
   },
   "outputs": [],
   "source": []
  },
  {
   "attachments": {},
   "cell_type": "markdown",
   "metadata": {},
   "source": [
    "# 3. Funciones como parámetros <a id=\"sec_ordensuperior\"/>"
   ]
  },
  {
   "attachments": {},
   "cell_type": "markdown",
   "metadata": {},
   "source": [
    "A diferencia de otros lenguajes de programación, en Python las funciones son un tipo más, como lo son el tipo entero, el tipo real o el tipo lista, entre otros. Que sea \"un tipo más\" (más formalmente se dice que las funciones son **objetos de primera clase**) significa que puedo declarar variables de tipo función, hacer asignaciones a esas variables, e incluso usar parámetros de tipo función.\n",
    "\n",
    "Por ejemplo, en el siguiente código definimos una variable llamada `funcion` a la que le asignamos distintas funciones. Como ves en el ejemplo, la variable de tipo función puede utilizarse después para invocar a la función que contiene:"
   ]
  },
  {
   "cell_type": "code",
   "execution_count": null,
   "metadata": {
    "collapsed": true,
    "jupyter": {
     "outputs_hidden": true
    }
   },
   "outputs": [],
   "source": [
    "funcion = imprime_linea \n",
    "print(\"El tipo de la variable función:\", type(funcion))  # Visualizamos el tipo de la variable funcion\n",
    "\n",
    "funcion() # Invocamos a la función que contenga la variable función"
   ]
  },
  {
   "attachments": {},
   "cell_type": "markdown",
   "metadata": {},
   "source": [
    "Lo anterior se puede utilizar para dar un nuevo nombre a alguna función, aunque no es algo muy habitual ni que vayamos a hacer en nuestros ejercicios de clase. Lo que sí es muy útil y utilizaremos frecuentemente es la capacidad de pasar una función como parámetro a otra función. Observa el siguiente ejemplo:"
   ]
  },
  {
   "cell_type": "code",
   "execution_count": null,
   "metadata": {
    "collapsed": true,
    "jupyter": {
     "outputs_hidden": true
    }
   },
   "outputs": [],
   "source": [
    "def transforma(lista, transformacion):\n",
    "    ''' Devuelve una lista formada por los resultados de aplicar una función de \n",
    "    transformación a los elementos de una lista de entrada\n",
    "    \n",
    "    El parámetro \"transformacion\" debe ser una función que reciba un único parámetro \n",
    "    y devuelva algún valor.\n",
    "    \n",
    "    '''\n",
    "    lista_transformada = []\n",
    "    for elemento in lista:\n",
    "        lista_transformada.append(transformacion(elemento))\n",
    "    return lista_transformada\n",
    "\n",
    "# Test de la función transforma:\n",
    "# Pasamos distintas funciones en el segundo parámetro de la función\n",
    "import math\n",
    "x = [0, 0.5, 1, 1.5, 2, 2.5, 3, 3.5,  4, 4.5, 5, 5.5, 6]\n",
    "x_raices = transforma(x, math.sqrt)\n",
    "print(x_raices)\n",
    "x_senos = transforma(x, math.sin)\n",
    "print(x_senos)\n",
    "\n",
    "# Dibujamos ambas transformaciones\n",
    "%matplotlib inline    \n",
    "from matplotlib import pyplot \n",
    "pyplot.plot(x, x_raices) \n",
    "pyplot.plot(x, x_senos) "
   ]
  },
  {
   "attachments": {},
   "cell_type": "markdown",
   "metadata": {},
   "source": [
    "En Python existe una función parecida a la función `transforma` que acabamos de implementar; su nombre es `map` y puedes [consultar el manual para ver en qué consiste](https://docs.python.org/3/library/functions.html#map).\n",
    "\n",
    "Las funciones que reciben parámetros que son a su vez de tipo función son llamadas **funciones de orden superior**."
   ]
  },
  {
   "attachments": {},
   "cell_type": "markdown",
   "metadata": {},
   "source": [
    "### ¡Prueba tú!\n",
    "Utiliza la función transforma para dibujar la función $e^x$. Busca en el módulo *math* la función que calcula $e^v$ para un valor de entrada *v*."
   ]
  },
  {
   "cell_type": "code",
   "execution_count": null,
   "metadata": {
    "collapsed": true,
    "jupyter": {
     "outputs_hidden": true
    }
   },
   "outputs": [],
   "source": []
  },
  {
   "attachments": {},
   "cell_type": "markdown",
   "metadata": {},
   "source": [
    "Algunas funciones predefinidas reciben parámetros de tipo función (es decir, según la definición anterior, son *funciones de orden superior*). Un ejemplo es la función ``max``, función que devuelve el máximo de una secuencia. Por defecto, ``max`` utiliza el operador relacional habitual ``>`` para comparar los elementos de la secuencia unos con otros, en su búsqueda del mayor. Pero si deseamos que los elementos se comparen de otra forma, podemos hacer uso del parámetro opcional ``key``. Este parámetro espera como entrada una función, la cuál será aplicada a cada uno de los elementos de la sencuencia *antes* de ser comparados mediante el operador relacional ``>``."
   ]
  },
  {
   "cell_type": "code",
   "execution_count": null,
   "metadata": {},
   "outputs": [],
   "source": [
    "nombres = [\"Ana\", \"María\", \"Julia\", \"Alberto\", \"Rafa\", \"Manuel\"]\n",
    "print(\"El nombre más largo es\", max(nombres, key=len))"
   ]
  },
  {
   "attachments": {},
   "cell_type": "markdown",
   "metadata": {},
   "source": [
    "Otras funciones de orden superior que usaremos son ``min``, para encontrar mínimos, y ``sorted``, para ordenar secuencias. "
   ]
  },
  {
   "attachments": {},
   "cell_type": "markdown",
   "metadata": {},
   "source": [
    "## 3.1. Definición de funciones sin nombre <a id=\"sec_lambda\"/>"
   ]
  },
  {
   "attachments": {},
   "cell_type": "markdown",
   "metadata": {
    "collapsed": true,
    "jupyter": {
     "outputs_hidden": true
    }
   },
   "source": [
    "Algunas veces cuando usamos funciones de orden superior necesitamos pasar como parámetro una función que aún no tenemos definida. Una solución es definir una nueva función que haga lo que queremos. Por ejemplo, supongamos que queremos transformar los elementos de una lista de manera que cada elemento se multiplique por 2:"
   ]
  },
  {
   "cell_type": "code",
   "execution_count": null,
   "metadata": {
    "collapsed": true,
    "jupyter": {
     "outputs_hidden": true
    }
   },
   "outputs": [],
   "source": [
    "def multiplica_por_dos(n):\n",
    "    return 2 * n\n",
    "\n",
    "x = [1, 2, 3, 4 ,5]\n",
    "x_por_2 = transforma(x, multiplica_por_dos)\n",
    "print(x_por_2)"
   ]
  },
  {
   "attachments": {},
   "cell_type": "markdown",
   "metadata": {},
   "source": [
    "Sin embargo, esta no es una buena solución, por dos razones:\n",
    "\n",
    "* La función multiplica_por_dos es \"de usar y tirar\", es posible que no la necesitemos nunca más.\n",
    "* Si en nuestro programa necesitamos usar la función `transforma` en muchas ocasiones, y cada vez necesitamos realizar una transformación sencilla distinta, tendríamos que implementar multitud de funciones \"de usar y tirar\", lo que complicaría y alargaría el código de nuestro programa.\n",
    "\n",
    "La solución a estos problemas es el uso de **funciones sin nombre** (también llamadas **funciones anónimas** o **funciones lambda**). Se trata de una manera de describir funciones sencillas mediante una expresión, sin necesidad de definir la función (al menos, no de la forma en que hemos visto hasta ahora). Esta expresión **la escribiremos directamente donde la necesitemos**; por ejemplo, en la misma llamada a la función `transforma`. Observa el siguiente ejemplo:"
   ]
  },
  {
   "cell_type": "code",
   "execution_count": null,
   "metadata": {
    "collapsed": true,
    "jupyter": {
     "outputs_hidden": true
    }
   },
   "outputs": [],
   "source": [
    "x_por_2 = transforma(x, lambda n: 2 * n)\n",
    "print(x_por_2)"
   ]
  },
  {
   "attachments": {},
   "cell_type": "markdown",
   "metadata": {},
   "source": [
    "La definición de función sin nombre del ejemplo anterior es:\n",
    "```python\n",
    "lambda n: 2 * n\n",
    "```"
   ]
  },
  {
   "attachments": {},
   "cell_type": "markdown",
   "metadata": {},
   "source": [
    "La cual está definiendo una función que toma un parámetro `n` y devuelve el resultado de la expresión `2 * n`. Al escribir esta expresión directamente en la llamada de la función `transforma` nos ahorramos tener que definir la función `multiplica_por_dos`.\n",
    "\n",
    "Se pueden definir funciones sin nombre de más de un parámetro; por ejemplo la siguiente función lambda:\n",
    "```python\n",
    "lambda n, m: n + m\n",
    "```\n",
    "representa una función que recibe dos parámetros y devuelve su suma. "
   ]
  },
  {
   "attachments": {},
   "cell_type": "markdown",
   "metadata": {},
   "source": [
    "### ¡Prueba tú!\n",
    "Intenta obtener la lista [2, 4, 8, 16, 32] (potencias de 2) a partir de la lista ``exponentes``, usando la función `transforma` y una expresión lambda."
   ]
  },
  {
   "cell_type": "code",
   "execution_count": null,
   "metadata": {
    "collapsed": true,
    "jupyter": {
     "outputs_hidden": true
    }
   },
   "outputs": [],
   "source": [
    "exponentes = [1, 2, 3, 4, 5]"
   ]
  },
  {
   "attachments": {},
   "cell_type": "markdown",
   "metadata": {},
   "source": [
    "Podemos usar las funciones sin nombre o funciones lambda cuando hagamos uso de algunas funciones predefinidas de orden superior, como ``max``, ``min`` o ``sorted``. Observa el siguiente ejemplos:"
   ]
  },
  {
   "cell_type": "code",
   "execution_count": null,
   "metadata": {},
   "outputs": [],
   "source": [
    "nombres = [\"Ana\", \"María\", \"Julia\", \"Alberto\", \"Rafa\", \"Manuel\"]\n",
    "print(\"Los nombres ordenados alfabéticamente por su última letra:\")\n",
    "print(sorted(nombres, key=lambda n:n[-1]))"
   ]
  },
  {
   "attachments": {},
   "cell_type": "markdown",
   "metadata": {},
   "source": [
    "## 4. Tipado de la definición de funciones <a id=\"sec_tipado\"/>"
   ]
  },
  {
   "attachments": {},
   "cell_type": "markdown",
   "metadata": {},
   "source": [
    "Aunque como hemos visto hasta ahora, en Python no es necesario definir el tipo de los parámetros de las funciones que implementemos, ni tampoco el tipo del valor devuelto por las mismas, a partir de la versión 3.5 sí es posible hacerlo. \n",
    "\n",
    "Se trata de una característica **opcional**, y que no tiene ningún efecto en la ejecución. Es más, aunque definamos que un parámetro es de un tipo determinado, podremos seguir invocando a la función pasándole un parámetro de otro tipo. Sin embargo, el tipado en la definición de funciones puede servirnos para que las funciones queden mejor documentadas, es decir, para que un programador que lea nuestra definición tenga más claro qué espera recibir la función en cada uno de sus parámetros (y de qué tipo es el valor devuelto por la misma). Además, llevar a cabo estas definiciones de tipo nos preparará para lenguajes como Java, en los que dicha especificación de tipos sí es obligatoria.\n",
    "\n",
    "A continuación, se muestra la manera de utilizar estas características:"
   ]
  },
  {
   "attachments": {},
   "cell_type": "markdown",
   "metadata": {},
   "source": [
    "* Haremos constar el tipo de los parámetros mediante el uso de dos puntos (:), y el de devolución mediante una flecha (->), como se muestra en el siguiente ejemplo:"
   ]
  },
  {
   "cell_type": "code",
   "execution_count": null,
   "metadata": {},
   "outputs": [],
   "source": [
    "def funcion_ejemplo(par1: int, par2: float, par3: bool) -> str:\n",
    "    res = 0\n",
    "    if par3:\n",
    "        res = par1 * par2\n",
    "    else:\n",
    "        res = par1 / par2\n",
    "    return \"El valor obtenido es \" + str(res)"
   ]
  },
  {
   "attachments": {},
   "cell_type": "markdown",
   "metadata": {},
   "source": [
    "* Para hacer referencia a tipos compuestos (listas, tuplas, conjuntos o diccionarios), debemos importar los tipos List, Tuple, Set o Dict del paquete typing. Para indicar el tipo de los elementos de dichas estructuras, usaremos los corchetes:"
   ]
  },
  {
   "cell_type": "code",
   "execution_count": null,
   "metadata": {},
   "outputs": [],
   "source": [
    "from typing import List, Set, Tuple, Dict\n",
    "\n",
    "def funcion_ejemplo(par1: List[int], par2: Set[float], par3: Tuple[str, int]) -> Dict[str, float]:\n",
    "    # ... se obvia la implementación de la función\n",
    "    pass"
   ]
  },
  {
   "attachments": {},
   "cell_type": "markdown",
   "metadata": {},
   "source": [
    "Observe que en el caso de listas y conjuntos, indicados entre corchetes el tipo de los elementos, suponiendo que todos los elementos serán del mismo tipo. En el caso de tuplas, indicamos el tipo de cada uno de los campos, y en el caso de los diccionarios, indicamos el tipo de las claves y los valores, en este orden.\n",
    "\n",
    "* Para definir tuplas con nombres en las que los campos tengas declaración de tipos, importaremos el tipo NamedTuple del paquete typing. Usaremos este nuevo tipo en lugar de namedtuple del paquete collections, que hemos usado anteriormente. Declararemos las tuplas con nombres de esta forma:"
   ]
  },
  {
   "cell_type": "code",
   "execution_count": 6,
   "metadata": {},
   "outputs": [],
   "source": [
    "from typing import NamedTuple\n",
    "from datetime import datetime # Usamos el tipo datetime en este ejemplo, que representa una fecha y hora\n",
    "\n",
    "Dato = NamedTuple(\"Dato\", [(\"campo1\", str), (\"campo2\", float), (\"campo3\", datetime)])"
   ]
  },
  {
   "attachments": {},
   "cell_type": "markdown",
   "metadata": {},
   "source": [
    "Observe que le pasamos a NamedTuple como segundo parámetro una lista de tuplas, siendo el primer campo de cada tupla el nombre del campo en cuestión, y el segundo campo de cada tupla el tipo de dicho campo. \n",
    "* Podemos definir que un parámetro o tipo devuelto sea uno de entre varios tipos, mediante el tipo Union, que importaremos del paquete typing:"
   ]
  },
  {
   "cell_type": "code",
   "execution_count": null,
   "metadata": {},
   "outputs": [],
   "source": [
    "from typing import Union\n",
    "\n",
    "def multiplica_por_10(parametro: Union[int, float]) -> None:\n",
    "    print(parametro * 10)"
   ]
  },
  {
   "attachments": {},
   "cell_type": "markdown",
   "metadata": {},
   "source": [
    "Observe que si una función no devuelve nada, podemos indicarlo poniendo como tipo de devolución None.\n"
   ]
  }
 ],
 "metadata": {
  "anaconda-cloud": {},
  "kernelspec": {
   "display_name": "Python 3 (ipykernel)",
   "language": "python",
   "name": "python3"
  },
  "language_info": {
   "codemirror_mode": {
    "name": "ipython",
    "version": 3
   },
   "file_extension": ".py",
   "mimetype": "text/x-python",
   "name": "python",
   "nbconvert_exporter": "python",
   "pygments_lexer": "ipython3",
   "version": "3.11.5"
  }
 },
 "nbformat": 4,
 "nbformat_minor": 4
}
