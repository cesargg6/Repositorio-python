{
 "cells": [
  {
   "cell_type": "markdown",
   "metadata": {},
   "source": [
    "# Operaciones con diccionarios\n",
    "**Autor**: Mariano González. **Última modificación:** 17/11/2023"
   ]
  },
  {
   "cell_type": "markdown",
   "metadata": {},
   "source": [
    "![Image](imagenes/Rios_y_Picos.png)"
   ]
  },
  {
   "cell_type": "markdown",
   "metadata": {},
   "source": [
    "Vamos a repasar algunas de las operaciones típicas que podemos hacer con diccionarios. Para ello, consideremos la siguiente lista de ríos (fuente: [Wikipedia](https://es.wikipedia.org/wiki/Anexo:R%C3%ADos_m%C3%A1s_largos_de_la_Tierra)). Usaremos namedtuple para poder llamar a cada elemento de la tupla por su nombre."
   ]
  },
  {
   "cell_type": "code",
   "execution_count": null,
   "metadata": {},
   "outputs": [],
   "source": [
    "from collections import namedtuple, Counter\n",
    "\n",
    "Rio = namedtuple(\"Rio\", \"nombre longitud continente\")\n",
    "rios = [Rio(\"Amazonas\", 7062, \"América del Sur\"), Rio(\"Nilo\", 6853, \"África\"),\n",
    "        Rio(\"Yangtsé\", 6300, \"Asia\"), Rio(\"Misisipi\", 6275, \"América del Norte\"),\n",
    "        Rio(\"Amarillo\", 5464, \"Asia\"), Rio(\"Mekong\", 4880, \"Asia\"),\n",
    "        Rio(\"Congo\", 4700, \"África\"), Rio(\"Danubio\", 2850, \"Europa\")]"
   ]
  },
  {
   "cell_type": "markdown",
   "metadata": {},
   "source": [
    "Sobre esta lista realizaremos las siguientes operaciones:\n",
    "\n",
    "A) Operaciones que construyen un diccionario:\n",
    "   1. Los valores del diccionario son listas o conjuntos cuyos elementos son las tuplas, o uno o varios campos de las tuplas, que contienen cada clave. En el caso de una lista, puede estar ordenada y recortada.\n",
    "   2. Los valores del diccionario representan contadores, sumas, medias, porcentajes, máximos o mínimos:\n",
    "      - a) **Contador**: número de tuplas de la lista que contienen cada clave.\n",
    "      - b) **Suma**: suma de los valores de un campo, o de una propiedad calculada a partir de un campo, de las tuplas que contienen cada clave.\n",
    "      - c) **Media**: media de los valores de un campo, o de una propiedad calculada a partir de un campo, de las tuplas que contienen cada clave.\n",
    "      - d) **Porcentaje**: porcentaje de apariciones de cada clave en la lista de tuplas respecto al número total de tuplas.\n",
    "      - e) **Máximo/mínimos**: máximo/mínimo del valor de un campo, o de una propiedad calculada a partir de un campo, de las tuplas que contienen cada clave.\n",
    "\n",
    "B) Operaciones que calculan un resultado a partir de un diccionario intermedio:\n",
    "   1. Máximo (mínimo): clave a la que le corresponde un mayor (menor) valor en el diccionario.\n",
    "   2. Lista de claves ordenadas respecto a sus valores en el diccionario.\n",
    "\n",
    "C) Cálculo de un diccionario inverso"
   ]
  },
  {
   "cell_type": "markdown",
   "metadata": {},
   "source": [
    "## A) Operaciones que construyen un diccionario"
   ]
  },
  {
   "cell_type": "markdown",
   "metadata": {},
   "source": [
    "### 1. Diccionario con valores de un tipo contenedor"
   ]
  },
  {
   "cell_type": "markdown",
   "metadata": {},
   "source": [
    "En estos diccionarios, los valores son listas, conjuntos o incluso diccionarios. Por ejemplo, vamos a crear un diccionario que relacione los continentes con los ríos que están en ese continente. Para ello se recorre la lista de ríos. Para cada río se obtiene el continente, que será la clave del diccionario. A continuación se pueden dar dos casos, según la clave se encuentre o no en el diccionario. Si no se encuentra, se crea una nueva pareja del diccionario con el continente y el río; si ya se encuentra, se añade el nuevo río a la lista de ríos que ya están asociados a ese continente. El código quedaría así:"
   ]
  },
  {
   "cell_type": "code",
   "execution_count": null,
   "metadata": {},
   "outputs": [],
   "source": [
    "rios_por_continente = dict()\n",
    "for r in rios:\n",
    "    continente = r.continente\n",
    "    if continente in rios_por_continente:\n",
    "        rios_por_continente[continente].append(r)\n",
    "    else:\n",
    "        rios_por_continente[continente] = [r]\n",
    "\n",
    "print(rios_por_continente)"
   ]
  },
  {
   "cell_type": "markdown",
   "metadata": {},
   "source": [
    "![Image](imagenes/A1a.png)"
   ]
  },
  {
   "cell_type": "markdown",
   "metadata": {},
   "source": [
    "Los elementos de las listas no tienen por qué ser las tuplas de la lista original. Pueden ser una parte de la tupla o incluso un solo elemento de ella. Por ejemplo, el siguiente diccionario relaciona cada continente con los nombres de los ríos de ese continente:"
   ]
  },
  {
   "cell_type": "code",
   "execution_count": null,
   "metadata": {},
   "outputs": [],
   "source": [
    "nombres_rios_por_continente = dict()\n",
    "for r in rios:\n",
    "    continente = r.continente\n",
    "    if continente in nombres_rios_por_continente:\n",
    "        nombres_rios_por_continente[continente].append(r.nombre)\n",
    "    else:\n",
    "        nombres_rios_por_continente[continente] = [r.nombre]\n",
    "\n",
    "print(nombres_rios_por_continente)"
   ]
  },
  {
   "cell_type": "markdown",
   "metadata": {},
   "source": [
    "![Image](imagenes/A1b.png)"
   ]
  },
  {
   "cell_type": "markdown",
   "metadata": {},
   "source": [
    "En ocasiones puede interesarnos que la lista de valores esté ordenada, e incluso recortada. Por ejemplo, queremos relacionar cada continente con los nombres de los N ríos más largos del continente, ordenados de mayor a menor longitud.\n",
    "\n",
    "Para ello, vamos a crear un nuevo diccionario a partir del diccionario `rios_por_continente`. Recorremos el diccionario y, para cada continente, obtenemos su lista de ríos, la ordenamos, la recortamos a N valores y nos quedamos con el nombre, y luego la almacenamos en el nuevo diccionario."
   ]
  },
  {
   "cell_type": "code",
   "execution_count": null,
   "metadata": {},
   "outputs": [],
   "source": [
    "nombres_rios_mas_largos_por_continente = dict()\n",
    "n = 2\n",
    "for continente, lista_rios in rios_por_continente.items():\n",
    "    rios_mas_largos = sorted(lista_rios, key=lambda r:r.longitud, reverse=True)[:n]\n",
    "    nombres_rios_mas_largos = [r.nombre for r in rios_mas_largos]\n",
    "    nombres_rios_mas_largos_por_continente[continente] = nombres_rios_mas_largos\n",
    "    \n",
    "print(nombres_rios_mas_largos_por_continente)"
   ]
  },
  {
   "cell_type": "markdown",
   "metadata": {},
   "source": [
    "![Image](imagenes/A1c.png)"
   ]
  },
  {
   "cell_type": "markdown",
   "metadata": {},
   "source": [
    "### 2. Diccionarios con valores que representan contadores, sumas, medias, porcentajes, máximos o mínimos"
   ]
  },
  {
   "cell_type": "markdown",
   "metadata": {},
   "source": [
    "Estos diccionarios se utilizan para realizar cálculos sobre los valores de un campo de la tupla. Por ejemplo, el número de veces que se repite cada valor de un campo de la tupla, o la media de los valores de un campo numérico de la tupla."
   ]
  },
  {
   "cell_type": "markdown",
   "metadata": {},
   "source": [
    "### a) Diccionarios contadores"
   ]
  },
  {
   "cell_type": "markdown",
   "metadata": {},
   "source": [
    "La aplicación más típica de estos diccionarios es contar el número de veces que aparece cada valor diferente de un campo determinado de la tupla. Por ejemplo, vamos a crear un diccionario que relacione los continentes con el número de ríos que hay en cada continente. Para ello recorremos los ríos y obtenemos el continente, que será la clave. Si el continente no existe en el diccionario, se inicializa el número de ríos del continente con el valor 1, y si ya existe se incrementa el número de ríos del continente en 1."
   ]
  },
  {
   "cell_type": "code",
   "execution_count": null,
   "metadata": {},
   "outputs": [],
   "source": [
    "numero_rios_por_continente = dict()\n",
    "for r in rios:\n",
    "    continente = r.continente\n",
    "    if continente in numero_rios_por_continente:\n",
    "        numero_rios_por_continente[continente] += 1\n",
    "    else:\n",
    "        numero_rios_por_continente[continente] = 1\n",
    "\n",
    "print(numero_rios_por_continente)"
   ]
  },
  {
   "cell_type": "markdown",
   "metadata": {},
   "source": [
    "![Image](imagenes/A2a.png)"
   ]
  },
  {
   "cell_type": "markdown",
   "metadata": {},
   "source": [
    "Podemos simplificar este código usando la función *get* con un segundo parámetro, que será el valor asociado a la clave si esta no se encuentra en el diccionario. Esto nos permite eliminar la estructura selectiva *if* dentro del bucle:"
   ]
  },
  {
   "cell_type": "code",
   "execution_count": null,
   "metadata": {},
   "outputs": [],
   "source": [
    "numero_rios_por_continente = dict()\n",
    "for r in rios:\n",
    "    numero_rios_por_continente[r.continente] = numero_rios_por_continente.get(r.continente, 0) + 1\n",
    "\n",
    "print(numero_rios_por_continente)"
   ]
  },
  {
   "cell_type": "markdown",
   "metadata": {},
   "source": [
    "Aún podemos hacerlo de una forma más simple si utilizamos el tipo **Counter**, definido en el módulo *collections* de Python. Veamos cómo funciona con un ejemplo sencillo:"
   ]
  },
  {
   "cell_type": "code",
   "execution_count": null,
   "metadata": {},
   "outputs": [],
   "source": [
    "nombres = [\"Ana\", \"Luis\", \"Juan\", \"Eva\", \"Ana\", \"Antonio\", \"Luis\", \"Ana\", \"Juan\"]\n",
    "frecuencia_nombres = Counter(nombres)\n",
    "print(frecuencia_nombres)\n",
    "print(dict(frecuencia_nombres))"
   ]
  },
  {
   "cell_type": "markdown",
   "metadata": {},
   "source": [
    "Como se aprecia, lo que hace *Counter* es 'contar' el número de veces que aparece cada elemento en la lista y crear un diccionario con estos contadores. Si volvemos al caso de los ríos, podemos obtener el mismo diccionario aplicando *Counter* a una lista en la cual aparezcan los nombres de los continentes:"
   ]
  },
  {
   "cell_type": "code",
   "execution_count": null,
   "metadata": {},
   "outputs": [],
   "source": [
    "numero_rios_por_continente = Counter(r.continente for r in rios)\n",
    "print(numero_rios_por_continente)"
   ]
  },
  {
   "cell_type": "markdown",
   "metadata": {},
   "source": [
    "### b) Diccionarios con valores que representan sumas"
   ]
  },
  {
   "cell_type": "markdown",
   "metadata": {},
   "source": [
    "Aparte de estos diccionarios contadores, podemos tener diccionarios en los que los valores representen sumas de propiedades numéricas. Por ejemplo, un diccionario que relacione cada continente con la suma de las longitudes de todos los ríos del continente."
   ]
  },
  {
   "cell_type": "code",
   "execution_count": null,
   "metadata": {},
   "outputs": [],
   "source": [
    "longitud_total_por_continente = dict()\n",
    "for r in rios:\n",
    "    continente = r.continente\n",
    "    if continente in longitud_total_por_continente:\n",
    "        longitud_total_por_continente[continente] += r.longitud\n",
    "    else:\n",
    "        longitud_total_por_continente[continente] = r.longitud\n",
    "\n",
    "print(longitud_total_por_continente)"
   ]
  },
  {
   "cell_type": "markdown",
   "metadata": {},
   "source": [
    "![Image](imagenes/A2b.png)"
   ]
  },
  {
   "cell_type": "markdown",
   "metadata": {},
   "source": [
    "### c) Diccionarios con valores que representan medias"
   ]
  },
  {
   "cell_type": "markdown",
   "metadata": {},
   "source": [
    "También podemos construir diccionarios cuyos valores representen valores medios de propiedades numéricas. Por ejemplo, un diccionario que relacione cada continente con la longitud media de los ríos del continente. Para ello, recorremos el diccionario de sumas y dividimos la suma de las longitudes de los ríos de cada continente entre el número de ríos del continente, dato que tenemos en el diccionario contador."
   ]
  },
  {
   "cell_type": "code",
   "execution_count": null,
   "metadata": {},
   "outputs": [],
   "source": [
    "longitud_media_por_continente = dict()\n",
    "for continente, longitud_total in longitud_total_por_continente.items():\n",
    "    numero_rios_continente = numero_rios_por_continente[continente]\n",
    "    longitud_media_por_continente[continente] = longitud_total / numero_rios_continente\n",
    "    \n",
    "print(longitud_media_por_continente)"
   ]
  },
  {
   "cell_type": "markdown",
   "metadata": {},
   "source": [
    "![Image](imagenes/A2c.png)"
   ]
  },
  {
   "cell_type": "markdown",
   "metadata": {},
   "source": [
    "### d) Diccionarios con valores que representan máximos o mínimos"
   ]
  },
  {
   "cell_type": "markdown",
   "metadata": {},
   "source": [
    "En este caso, nos interesa que los valores del diccionario sean máximos y mínimos sobre los valores de un campo de la tupla. Por ejemplo, veamos cómo crear un diccionario que relacione cada continente con el río más largo del continente.\n",
    "\n",
    "Para ello partimos del diccionario creado más arriba que relaciona los continentes con la lista de ríos del continente. Recorremos este diccionario, calculando para cada continente cuál de los ríos de ese continente tiene mayor longitud, y añadimos la pareja formada por el continente y el nombre de este río a un nuevo diccionario que vamos construyendo:"
   ]
  },
  {
   "cell_type": "code",
   "execution_count": null,
   "metadata": {},
   "outputs": [],
   "source": [
    "rio_mas_largo_por_continente = dict()\n",
    "for continente, lista_rios in rios_por_continente.items():\n",
    "    rio_mas_largo = max(lista_rios, key=lambda r:r.longitud)\n",
    "    rio_mas_largo_por_continente[continente] = rio_mas_largo.nombre\n",
    "    \n",
    "print(rio_mas_largo_por_continente)"
   ]
  },
  {
   "cell_type": "markdown",
   "metadata": {},
   "source": [
    "![Image](imagenes/A2d.png)"
   ]
  },
  {
   "cell_type": "markdown",
   "metadata": {},
   "source": [
    "### e) Diccionarios con valores que representan porcentajes"
   ]
  },
  {
   "cell_type": "markdown",
   "metadata": {},
   "source": [
    "Veamos, por último, el caso de un diccionario que relacione cada continente con el porcentaje del total de ríos que se encuentran en ese continente.\n",
    "\n",
    "Para ello partimos del diccionario que relaciona cada continente con el número de ríos del continente. Recorremos este diccionario y, para cada continente, dividimos su número de ríos entre el número total de ríos, que habremos calculado previamente."
   ]
  },
  {
   "cell_type": "code",
   "execution_count": null,
   "metadata": {},
   "outputs": [],
   "source": [
    "porcentaje_rios_por_continente = dict()\n",
    "numero_total_rios = len(rios)\n",
    "\n",
    "for continente, numero_rios_continente in numero_rios_por_continente.items():\n",
    "    porcentaje_rios_por_continente[continente] = numero_rios_continente / numero_total_rios * 100\n",
    "    \n",
    "print(porcentaje_rios_por_continente)"
   ]
  },
  {
   "cell_type": "markdown",
   "metadata": {},
   "source": [
    "![Image](imagenes/A2e.png)"
   ]
  },
  {
   "cell_type": "markdown",
   "metadata": {},
   "source": [
    "## B) Operaciones que calculan un resultado a partir de un diccionario intermedio"
   ]
  },
  {
   "cell_type": "markdown",
   "metadata": {},
   "source": [
    "En ocasiones, la creación del diccionario es un paso intermedio para hacer un cálculo posterior, como puede ser obtener un máximo o un mínimo, o una lista de valores ordenada y recortada."
   ]
  },
  {
   "cell_type": "markdown",
   "metadata": {},
   "source": [
    "### 1. Obtener un máximo o mínimo a partir de un diccionario"
   ]
  },
  {
   "cell_type": "markdown",
   "metadata": {},
   "source": [
    "Supongamos que queremos obtener el continente con un mayor número de ríos. Resulta fácil calcularlo si disponemos del diccionario que relaciona cada continente con el número de ríos que hay en el continente. Aplicamos la función *max* a este diccionario, indicando mediante el parámetro *key* que queremos calcular el máximo según el valor del diccionario, y no la clave. Lo hacemos así:"
   ]
  },
  {
   "cell_type": "code",
   "execution_count": null,
   "metadata": {},
   "outputs": [],
   "source": [
    "continente = max(numero_rios_por_continente, key=numero_rios_por_continente.get)\n",
    "print(continente)"
   ]
  },
  {
   "cell_type": "markdown",
   "metadata": {},
   "source": [
    "![Image](imagenes/B1.png)"
   ]
  },
  {
   "cell_type": "markdown",
   "metadata": {},
   "source": [
    "De esta forma obtenemos el nombre del continente. Si queremos obtener también el número de ríos, aplicamos la función *max* a las parejas del diccionario obtenidas mediante la función *items*, indicando que queremos calcular el máximo según el segundo elemento de la pareja:"
   ]
  },
  {
   "cell_type": "code",
   "execution_count": null,
   "metadata": {},
   "outputs": [],
   "source": [
    "continente = max(numero_rios_por_continente.items(), key=lambda r:r[1])\n",
    "print(continente)"
   ]
  },
  {
   "cell_type": "markdown",
   "metadata": {},
   "source": [
    "### 2. Obtener una lista de claves ordenadas respecto a sus valores"
   ]
  },
  {
   "cell_type": "markdown",
   "metadata": {},
   "source": [
    "Supongamos ahora que queremos obtener los N continentes con mayor número de ríos, ordenados de mayor a menor número. Lo podemos hacer igualmente a partir del diccionario que relaciona cada continente con su número de ríos, aplicando en este caso la función *sorted* para crear una lista con las claves del diccionario ordenadas según sus valores:"
   ]
  },
  {
   "cell_type": "code",
   "execution_count": null,
   "metadata": {},
   "outputs": [],
   "source": [
    "n = 2\n",
    "continentes = sorted(numero_rios_por_continente, key=numero_rios_por_continente.get, reverse=True)\n",
    "print(continentes[:n])"
   ]
  },
  {
   "cell_type": "markdown",
   "metadata": {},
   "source": [
    "![Image](imagenes/B2.png)"
   ]
  },
  {
   "cell_type": "markdown",
   "metadata": {},
   "source": [
    "Si queremos obtener una lista con el nombre del continente y su número de ríos, aplicamos la función *sorted* a las parejas del diccionario, indicando que queremos ordenar según el segundo elemento de la pareja:"
   ]
  },
  {
   "cell_type": "code",
   "execution_count": null,
   "metadata": {},
   "outputs": [],
   "source": [
    "n = 2\n",
    "continentes = sorted(numero_rios_por_continente.items(), key=lambda t:t[1], reverse=True)[:n]\n",
    "print(continentes)"
   ]
  },
  {
   "cell_type": "markdown",
   "metadata": {},
   "source": [
    "## C) Cálculo de un diccionario inverso"
   ]
  },
  {
   "cell_type": "markdown",
   "metadata": {},
   "source": [
    "A veces nos interesa obtener un diccionario a partir de otro, de forma que las claves pasen a ser los valores y los valores pasen a ser las claves. Es lo que se conoce como un diccionario inverso. Por ejemplo, a partir de un diccionario que relaciona cada continente con el número de ríos que hay en el continente, vamos a obtener un diccionario inverso que relaciona cada número con los continentes que tienen ese número de ríos. Para ello recorremos el diccionario original, y para cada pareja creamos otra pareja en el diccionario nuevo, en el que se intercambian la clave y el valor:"
   ]
  },
  {
   "cell_type": "code",
   "execution_count": null,
   "metadata": {},
   "outputs": [],
   "source": [
    "continentes_por_numero_rios = dict()\n",
    "\n",
    "for continente, numero_rios in numero_rios_por_continente.items():\n",
    "    continentes_por_numero_rios[numero_rios] = continente\n",
    "\n",
    "print(continentes_por_numero_rios)"
   ]
  },
  {
   "cell_type": "markdown",
   "metadata": {},
   "source": [
    "![Image](imagenes/Inverso1.png)"
   ]
  },
  {
   "cell_type": "markdown",
   "metadata": {},
   "source": [
    "Este algoritmo tiene un problema: como hay varios continentes con el mismo número de ríos (es el caso de Europa, América del Norte y América del Sur), y las claves no pueden repetirse, solo aparece uno de los continentes asociado a ese valor de la clave, y perdemos los otros continentes.\n",
    "\n",
    "¿Qué podemos hacer para evitarlo? Puesto que puede haber más de un valor con la misma clave (es decir, más de un continente con el mismo número de ríos), lo que hacemos es asociar a cada clave (número de ríos) una lista de valores (nombres de continentes con ese número de ríos). El algoritmo quedaría entonces así:"
   ]
  },
  {
   "cell_type": "code",
   "execution_count": null,
   "metadata": {},
   "outputs": [],
   "source": [
    "continentes_por_numero_rios = dict()\n",
    "\n",
    "for continente, numero_rios in numero_rios_por_continente.items():\n",
    "    if numero_rios in continentes_por_numero_rios:\n",
    "        continentes_por_numero_rios[numero_rios].append(continente)\n",
    "    else:\n",
    "        continentes_por_numero_rios[numero_rios] = [continente]            \n",
    "\n",
    "print(continentes_por_numero_rios)"
   ]
  },
  {
   "cell_type": "markdown",
   "metadata": {},
   "source": [
    "![Image](imagenes/Inverso2.png)"
   ]
  },
  {
   "cell_type": "markdown",
   "metadata": {},
   "source": [
    "## Ejercicio"
   ]
  },
  {
   "cell_type": "markdown",
   "metadata": {},
   "source": [
    "Ahora te toca a ti poner en práctica las ideas anteriores. Para ello trabajarás con la siguiente lista:"
   ]
  },
  {
   "cell_type": "code",
   "execution_count": null,
   "metadata": {},
   "outputs": [],
   "source": [
    "Pico = namedtuple(\"Pico\", \"nombre altitud provincia\")\n",
    "picos = [Pico(\"Mulhacén\", 3479, \"Granada\"), Pico(\"Torreón\", 1648, \"Cádiz\"),\n",
    "         Pico(\"Peña Santa\", 2596, \"León\"), Pico(\"Naranjo\", 2519, \"Asturias\"),\n",
    "         Pico(\"Alcazaba\", 3371, \"Granada\"), Pico(\"Veleta\", 3396, \"Granada\"),\n",
    "         Pico(\"Torrecilla\", 1919, \"Málaga\"), Pico(\"Llambrión\", 2647, \"León\"),\n",
    "         Pico(\"Teide\", 3718, \"Santa Cruz de Tenerife\"), Pico(\"Aljibe\", 1091, \"Cádiz\"),\n",
    "         Pico(\"Aneto\", 3404, \"Granada\"), Pico(\"Peña Ubiña\", 2417, \"León\")]"
   ]
  },
  {
   "cell_type": "markdown",
   "metadata": {},
   "source": [
    "Realiza las siguientes operaciones sobre esta lista:"
   ]
  },
  {
   "cell_type": "markdown",
   "metadata": {},
   "source": [
    "### 1. Obtener un diccionario que relacione cada provincia con los picos de dicha provincia\n",
    "Resultado esperado: {'Granada': [Pico(nombre='Mulhacén', altitud=3479, provincia='Granada'), Pico(nombre='Alcazaba', altitud=3371, provincia='Granada'), Pico(nombre='Veleta', altitud=3396, provincia='Granada'), Pico(nombre='Aneto', altitud=3404, provincia='Granada')], 'Cádiz': [Pico(nombre='Torreón', altitud=1648, provincia='Cádiz'), Pico(nombre='Aljibe', altitud=1091, provincia='Cádiz')], 'León': [Pico(nombre='Peña Santa', altitud=2596, provincia='León'), Pico(nombre='Llambrión', altitud=2647, provincia='León'), Pico(nombre='Peña Ubiña', altitud=2417, provincia='León')], 'Asturias': [Pico(nombre='Naranjo', altitud=2519, provincia='Asturias')], 'Málaga': [Pico(nombre='Torrecilla', altitud=1919, provincia='Málaga')], 'Santa Cruz de Tenerife': [Pico(nombre='Teide', altitud=3718, provincia='Santa Cruz de Tenerife')]}"
   ]
  },
  {
   "cell_type": "code",
   "execution_count": null,
   "metadata": {},
   "outputs": [],
   "source": []
  },
  {
   "cell_type": "markdown",
   "metadata": {},
   "source": [
    "### 2. Obtener un diccionario que relacione cada provincia con las altitudes de los 3 picos de mayor altitud de la provincia, de mayor a menor altitud\n",
    "Resultado esperado: {'Granada': [3479, 3404, 3396], 'Cádiz': [1648, 1091], 'León': [2647, 2596, 2417], 'Asturias': [2519], 'Málaga': [1919], 'Santa Cruz de Tenerife': [3718]}"
   ]
  },
  {
   "cell_type": "code",
   "execution_count": null,
   "metadata": {},
   "outputs": [],
   "source": []
  },
  {
   "cell_type": "markdown",
   "metadata": {},
   "source": [
    "### 3. Obtener un diccionario que relacione cada provincia con el número de picos de dicha provincia\n",
    "Resultado esperado: {'Granada': 4, 'Cádiz': 2, 'León': 3, 'Asturias': 1, 'Málaga': 1, 'Santa Cruz de Tenerife': 1}"
   ]
  },
  {
   "cell_type": "code",
   "execution_count": null,
   "metadata": {},
   "outputs": [],
   "source": []
  },
  {
   "cell_type": "markdown",
   "metadata": {},
   "source": [
    "### 4. Obtener el número de picos por provincia, usando el tipo Counter\n",
    "Resultado esperado: Counter({'Granada': 4, 'León': 3, 'Cádiz': 2, 'Asturias': 1, 'Málaga': 1, 'Santa Cruz de Tenerife': 1})"
   ]
  },
  {
   "cell_type": "code",
   "execution_count": null,
   "metadata": {},
   "outputs": [],
   "source": []
  },
  {
   "cell_type": "markdown",
   "metadata": {},
   "source": [
    "### 5. Obtener un diccionario que relacione cada provincia con la suma de altitudes de los picos de dicha provincia\n",
    "Resultado esperado: {'Granada': 13650, 'Cádiz': 2739, 'León': 7660, 'Asturias': 2519, 'Málaga': 1919, 'Santa Cruz de Tenerife': 3718}"
   ]
  },
  {
   "cell_type": "code",
   "execution_count": null,
   "metadata": {},
   "outputs": [],
   "source": []
  },
  {
   "cell_type": "markdown",
   "metadata": {},
   "source": [
    "### 6. Obtener un diccionario que relacione cada provincia con la altitud media de los picos de dicha provincia\n",
    "Resultado esperado: {'Granada': 3412.5, 'Cádiz': 1369.5, 'León': 2553.3333333333335, 'Asturias': 2519.0, 'Málaga': 1919.0, 'Santa Cruz de Tenerife': 3718.0}"
   ]
  },
  {
   "cell_type": "code",
   "execution_count": null,
   "metadata": {},
   "outputs": [],
   "source": []
  },
  {
   "cell_type": "markdown",
   "metadata": {},
   "source": [
    "### 7. Obtener un diccionario que relacione cada provincia con el pico de mayor altitud de la provincia\n",
    "Resultado esperado: {'Granada': Pico(nombre='Mulhacén', altitud=3479, provincia='Granada'), 'Cádiz': Pico(nombre='Torreón', altitud=1648, provincia='Cádiz'), 'León': Pico(nombre='Llambrión', altitud=2647, provincia='León'), 'Asturias': Pico(nombre='Naranjo', altitud=2519, provincia='Asturias'), 'Málaga': Pico(nombre='Torrecilla', altitud=1919, provincia='Málaga'), 'Santa Cruz de Tenerife': Pico(nombre='Teide', altitud=3718, provincia='Santa Cruz de Tenerife')}"
   ]
  },
  {
   "cell_type": "code",
   "execution_count": null,
   "metadata": {},
   "outputs": [],
   "source": []
  },
  {
   "cell_type": "markdown",
   "metadata": {},
   "source": [
    "### 8. Obtener un diccionario que relacione cada provincia con el porcentaje de picos de la provincia respecto al número total de picos\n",
    "Resultado esperado: {'Granada': 33.33333333333333, 'Cádiz': 16.666666666666664, 'León': 25.0, 'Asturias': 8.333333333333332, 'Málaga': 8.333333333333332, 'Santa Cruz de Tenerife': 8.333333333333332}"
   ]
  },
  {
   "cell_type": "code",
   "execution_count": null,
   "metadata": {},
   "outputs": [],
   "source": []
  },
  {
   "cell_type": "markdown",
   "metadata": {},
   "source": [
    "### 9. Obtener la provincia con mayor número de picos\n",
    "Resultado esperado: ('Granada', 4)"
   ]
  },
  {
   "cell_type": "code",
   "execution_count": null,
   "metadata": {},
   "outputs": [],
   "source": []
  },
  {
   "cell_type": "markdown",
   "metadata": {},
   "source": [
    "### 10. Obtener las dos provincias con mayor número de picos, ordenadas de mayor a menor número de picos\n",
    "Resultado esperado: [('Granada', 4), ('León', 3)]"
   ]
  },
  {
   "cell_type": "code",
   "execution_count": null,
   "metadata": {},
   "outputs": [],
   "source": []
  },
  {
   "cell_type": "markdown",
   "metadata": {},
   "source": [
    "### 11. Obtener un diccionario que relacione número de picos con provincias, a partir de otro que relaciona cada provincia con su número de picos\n",
    "Resultado esperado: {4: ['Granada'], 2: ['Cádiz'], 3: ['León'], 1: ['Asturias', 'Málaga', 'Santa Cruz de Tenerife']}"
   ]
  },
  {
   "cell_type": "code",
   "execution_count": null,
   "metadata": {},
   "outputs": [],
   "source": []
  }
 ],
 "metadata": {
  "kernelspec": {
   "display_name": "Python 3 (ipykernel)",
   "language": "python",
   "name": "python3"
  },
  "language_info": {
   "codemirror_mode": {
    "name": "ipython",
    "version": 3
   },
   "file_extension": ".py",
   "mimetype": "text/x-python",
   "name": "python",
   "nbconvert_exporter": "python",
   "pygments_lexer": "ipython3",
   "version": "3.11.5"
  }
 },
 "nbformat": 4,
 "nbformat_minor": 4
}
